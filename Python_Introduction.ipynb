{
 "cells": [
  {
   "cell_type": "markdown",
   "id": "6669c15c-12f9-45e5-bc06-921ec4d17d59",
   "metadata": {},
   "source": [
    "<h1 style=\"color:orange;\">Introduction to Pyhton</h1>\n",
    "\n",
    "[Python 3 Library](https://docs.python.org/3/library/index.html)"
   ]
  },
  {
   "cell_type": "markdown",
   "id": "7dd19833-1ad2-4d2e-a736-d8b2b2a02f4e",
   "metadata": {},
   "source": [
    "### help()"
   ]
  },
  {
   "cell_type": "code",
   "execution_count": null,
   "id": "4355670b-f5f9-4331-920a-77b321a1be58",
   "metadata": {
    "scrolled": true
   },
   "outputs": [],
   "source": [
    "# Type help(anything) and you can read documentation on it\n",
    "help(help)"
   ]
  },
  {
   "cell_type": "code",
   "execution_count": null,
   "id": "cbc724fa-a71e-483a-b869-c5ce8e414eaa",
   "metadata": {
    "scrolled": true
   },
   "outputs": [],
   "source": [
    "help(type)"
   ]
  },
  {
   "cell_type": "markdown",
   "id": "2984aa62-c380-40e0-9806-54f3a6a534b0",
   "metadata": {},
   "source": [
    "<h2 style=\"color:orange;\">Variables</h2>\n",
    "\n",
    "- A variable is a placeholder for some value. Think of it like a box where you can put anything you want and retrieve it later."
   ]
  },
  {
   "cell_type": "code",
   "execution_count": null,
   "id": "bc54d0fa-8d86-4c27-beca-903c45cac922",
   "metadata": {},
   "outputs": [],
   "source": [
    "# a, b and name are all variables.\n",
    "# The = operator assigns a value (any value) to the variable.\n",
    "a = 3.14\n",
    "b = 2\n",
    "name = \"Dr. Andrew Ng\"\n",
    "# We can also assign the value of a variable to another variable. c now has the value of a, which is 3.14.\n",
    "c = a\n",
    "# And we can overwrite the value of a particular value. The value of a is not 42 instead of 3.14. But c is still 3.14!\n",
    "a = 42\n",
    "# The print function will come in handy to check the values of variables.\n",
    "print(\"Hello Universe!\")\n",
    "print(a)\n",
    "print(name)\n",
    "print(a, b, c)"
   ]
  },
  {
   "cell_type": "code",
   "execution_count": null,
   "id": "ac100b8c-11d5-4bd4-8e2c-6e052536e47e",
   "metadata": {},
   "outputs": [],
   "source": [
    "help(print)"
   ]
  },
  {
   "cell_type": "markdown",
   "id": "04d57cb2-63ab-4bf4-bd73-1956d9080aa2",
   "metadata": {},
   "source": [
    "<h2 style=\"color:orange;\">Input/Output</h2>\n",
    "\n",
    "- Interacting with the outside\n",
    "    - Terminal\n",
    "        - print: send values to user\n",
    "        - input: reveice values from user\n",
    "    - Files\n",
    "    - Networking\n",
    "    - GUI's\n",
    "    - Pipes"
   ]
  },
  {
   "cell_type": "markdown",
   "id": "b563ab5c-d4b4-4fb1-90f0-870f086dcded",
   "metadata": {},
   "source": [
    "### print/input"
   ]
  },
  {
   "cell_type": "code",
   "execution_count": null,
   "id": "be6063cf-386b-4fe4-87be-59829929441a",
   "metadata": {},
   "outputs": [],
   "source": [
    "print(\"Type your first and last name:\")\n",
    "name = input()\n",
    "age = input(\"Type your age:\")\n",
    "print(name, \"é um velho com\", age)"
   ]
  },
  {
   "cell_type": "markdown",
   "id": "c7009cc2-5632-4ab0-9baa-5cb494c5d593",
   "metadata": {},
   "source": [
    "### Basic Types \n",
    "- https://docs.python.org/3/library/stdtypes.html\n",
    "- Basic Types: Conversion\n",
    "    - Numeric: Rounding / Operations\n",
    "        - Integers\n",
    "        - Floats\n",
    "    - Strings: Operations / f formated strings"
   ]
  },
  {
   "cell_type": "markdown",
   "id": "9692fb8e-6dd0-48c9-a6e4-d15138aabdc9",
   "metadata": {},
   "source": [
    "### type()\n",
    "- The type() function in Python is used to get the type of an object"
   ]
  },
  {
   "cell_type": "code",
   "execution_count": null,
   "id": "296691e3-fd4c-45c1-b9f7-5800c54c9d67",
   "metadata": {},
   "outputs": [],
   "source": [
    "# Numeric float\n",
    "a = 3.14\n",
    "type(a)"
   ]
  },
  {
   "cell_type": "code",
   "execution_count": null,
   "id": "bd5a1e83-36b2-43e0-9664-6922d4d76e94",
   "metadata": {},
   "outputs": [],
   "source": [
    "# Numeric int\n",
    "b = 2\n",
    "type(b)"
   ]
  },
  {
   "cell_type": "code",
   "execution_count": null,
   "id": "3b26cc3a-1951-4c3c-ad71-8926a2df30c3",
   "metadata": {},
   "outputs": [],
   "source": [
    "# Sting - used to encode text\n",
    "name = \"Dr. Andrew Ng\"\n",
    "type(name)"
   ]
  },
  {
   "cell_type": "code",
   "execution_count": null,
   "id": "b137195e-d07a-4c79-9db0-23baf6252a65",
   "metadata": {},
   "outputs": [],
   "source": [
    "# List\n",
    "contagem = [1, 2, 3]\n",
    "type(contagem)"
   ]
  },
  {
   "cell_type": "code",
   "execution_count": null,
   "id": "b90e701e-fe33-47bf-9061-d9544de712f0",
   "metadata": {},
   "outputs": [],
   "source": [
    "# Bolean encondes a True or False value\n",
    "b1 = True\n",
    "b2 = False\n",
    "type(b2)"
   ]
  },
  {
   "cell_type": "code",
   "execution_count": null,
   "id": "4ffebeb4-9b9a-4013-a93d-edac30e522f7",
   "metadata": {},
   "outputs": [],
   "source": [
    "# A dictionary is a collection of key-value pairs where each key is unique and associated with a specific value\n",
    "frutas = {\"apple\": 3, \"banana\": 2}\n",
    "type(frutas)"
   ]
  },
  {
   "cell_type": "code",
   "execution_count": null,
   "id": "f86ab158-a312-4263-9eae-baa6f0b33994",
   "metadata": {},
   "outputs": [],
   "source": [
    "# A set is a collection of unique and unordered elements\n",
    "conjunto = {3, 2, 5, 3}\n",
    "type(conjunto)"
   ]
  },
  {
   "cell_type": "code",
   "execution_count": null,
   "id": "7887767c-7bda-4dac-8f94-35ae0044082b",
   "metadata": {},
   "outputs": [],
   "source": [
    "print(conjunto)"
   ]
  },
  {
   "cell_type": "code",
   "execution_count": null,
   "id": "ddd3affd-8186-482c-88cc-ef8fa17c7b48",
   "metadata": {},
   "outputs": [],
   "source": [
    "type(lambda x: x*2)"
   ]
  },
  {
   "cell_type": "code",
   "execution_count": null,
   "id": "1996ee35-47d5-49aa-9f92-6f1c551820cc",
   "metadata": {},
   "outputs": [],
   "source": [
    "import math\n",
    "type(math)"
   ]
  },
  {
   "cell_type": "code",
   "execution_count": null,
   "id": "3b81f2a0-946d-4e4b-809d-b321ab1cb8f3",
   "metadata": {},
   "outputs": [],
   "source": [
    "class MyClass:\n",
    "    pass\n",
    "\n",
    "obj = MyClass()\n",
    "type(obj)"
   ]
  },
  {
   "cell_type": "code",
   "execution_count": null,
   "id": "849b66ea-950d-4e8d-ab98-1310fabf735f",
   "metadata": {},
   "outputs": [],
   "source": [
    "# Creating a range object representing a sequence of numbers from 0 to 9\n",
    "seq = range(10)\n",
    "\n",
    "# Iterating over the numbers in the range object\n",
    "for num in seq:\n",
    "    print(num)\n",
    "type(seq)"
   ]
  },
  {
   "cell_type": "markdown",
   "id": "3b0f97c3-74e1-4415-8872-432def4c2d2a",
   "metadata": {},
   "source": [
    "### Numeric types: int & float\n",
    "- Operations: + - * (**) / // % \n",
    "- Conversion"
   ]
  },
  {
   "cell_type": "code",
   "execution_count": null,
   "id": "91114af4-82a0-4600-9023-8a4d0a2398e0",
   "metadata": {},
   "outputs": [],
   "source": [
    "sum = 2+3+2\n",
    "print(sum)"
   ]
  },
  {
   "cell_type": "code",
   "execution_count": null,
   "id": "0dd6aba6-73b7-4785-ae5e-baef500337f0",
   "metadata": {},
   "outputs": [],
   "source": [
    "subtraction = 7-3\n",
    "print(subtraction)"
   ]
  },
  {
   "cell_type": "code",
   "execution_count": null,
   "id": "392f365c-c8ed-41a5-989d-9ea52d01bf02",
   "metadata": {},
   "outputs": [],
   "source": [
    "total = (2**3)*2\n",
    "print(total)"
   ]
  },
  {
   "cell_type": "code",
   "execution_count": null,
   "id": "52a6f74a-530a-42dc-95b6-2a8dd5d2166c",
   "metadata": {},
   "outputs": [],
   "source": [
    "division = 3/2\n",
    "print(division)"
   ]
  },
  {
   "cell_type": "code",
   "execution_count": null,
   "id": "a2d55223-7995-4167-9e7c-c245a81770d2",
   "metadata": {},
   "outputs": [],
   "source": [
    "whole_division_1 = 3//1\n",
    "whole_division_2 = 3//2\n",
    "whole_division_3 = 3//3\n",
    "whole_division_4 = 3//4\n",
    "print(whole_division_1)\n",
    "print(whole_division_2)\n",
    "print(whole_division_3)\n",
    "print(whole_division_4)"
   ]
  },
  {
   "cell_type": "code",
   "execution_count": null,
   "id": "744746c3-33c3-4db0-9f3d-4b4fbeaa8406",
   "metadata": {},
   "outputs": [],
   "source": [
    "remainder = 3%4\n",
    "print(remainder)"
   ]
  },
  {
   "cell_type": "markdown",
   "id": "fd34142f-0083-4b75-9fc0-2ae2b5ab4acc",
   "metadata": {},
   "source": [
    "### Conversions"
   ]
  },
  {
   "cell_type": "code",
   "execution_count": null,
   "id": "b0892b23-d688-494e-9665-6648ccb51361",
   "metadata": {},
   "outputs": [],
   "source": [
    "# int(): Converte um valor para um inteiro\n",
    "valor_float = 3.14\n",
    "int_converted = int(valor_float)\n",
    "print(int_converted)  # Output: 3"
   ]
  },
  {
   "cell_type": "code",
   "execution_count": null,
   "id": "adc68451-18ae-4ead-83c6-d4f7d5e524f2",
   "metadata": {},
   "outputs": [],
   "source": [
    "type(valor_float)"
   ]
  },
  {
   "cell_type": "code",
   "execution_count": null,
   "id": "6845ec64-1950-4149-b484-aff23e5fecfc",
   "metadata": {},
   "outputs": [],
   "source": [
    "type(int_converted)"
   ]
  },
  {
   "cell_type": "code",
   "execution_count": null,
   "id": "54829165-a287-44ce-92c8-b959864dfad8",
   "metadata": {},
   "outputs": [],
   "source": [
    "# float(): Converte um valor para um número de ponto flutuante\n",
    "valor_str = \"3.14\"\n",
    "float_converted = float(valor_str)\n",
    "print(float_converted)  # Output: 3.14"
   ]
  },
  {
   "cell_type": "code",
   "execution_count": null,
   "id": "22f93055-60e9-4347-bff7-6ff169e400fb",
   "metadata": {},
   "outputs": [],
   "source": [
    "type(valor_str)"
   ]
  },
  {
   "cell_type": "code",
   "execution_count": null,
   "id": "4bfbbe5f-438c-4ce6-b1c4-4226a3392a2e",
   "metadata": {},
   "outputs": [],
   "source": [
    "type(float_converted)"
   ]
  },
  {
   "cell_type": "code",
   "execution_count": null,
   "id": "2a792775-9030-47f2-8a7b-a7c0e2d4e6eb",
   "metadata": {},
   "outputs": [],
   "source": [
    "# str(): Converts a value to a string\n",
    "value_int = 123\n",
    "str_converted = str(value_int)\n",
    "print(str_converted)  # Output: \"123\""
   ]
  },
  {
   "cell_type": "code",
   "execution_count": null,
   "id": "451657af-f6df-497d-b6c7-a26a00e6dc34",
   "metadata": {},
   "outputs": [],
   "source": [
    "type(value_int)"
   ]
  },
  {
   "cell_type": "code",
   "execution_count": null,
   "id": "39c4c8b1-4a6a-49de-bdb0-28bcd62045db",
   "metadata": {},
   "outputs": [],
   "source": [
    "type(str_converted)"
   ]
  },
  {
   "cell_type": "code",
   "execution_count": null,
   "id": "21b28373-e5ab-413f-97ac-0c238d3b26f6",
   "metadata": {},
   "outputs": [],
   "source": [
    "# list(): Converte um iterável para uma lista\n",
    "iteravel_tuple = (1, 2, 3)\n",
    "lista_convertida = list(iteravel_tuple)\n",
    "print(lista_convertida)  # Output: [1, 2, 3]"
   ]
  },
  {
   "cell_type": "code",
   "execution_count": null,
   "id": "ca535010-42ec-4237-bbf0-14f53b72af28",
   "metadata": {},
   "outputs": [],
   "source": [
    "type(iteravel_tuple)"
   ]
  },
  {
   "cell_type": "code",
   "execution_count": null,
   "id": "3c2ab476-81b2-44f7-a892-3432af96ddca",
   "metadata": {},
   "outputs": [],
   "source": [
    "type(lista_convertida)"
   ]
  },
  {
   "cell_type": "code",
   "execution_count": null,
   "id": "fc977f64-3b3e-44ac-b145-c15eac011831",
   "metadata": {},
   "outputs": [],
   "source": [
    "# tuple(): Converts an iterable to a tuple\n",
    "iterable_list = [1, 2, 3]\n",
    "tuple_converted = tuple(iterable_list)\n",
    "print(tuple_converted)  # Output: (1, 2, 3)"
   ]
  },
  {
   "cell_type": "code",
   "execution_count": null,
   "id": "acaaded9-2f70-461c-9c9c-1cb28e3a2eb5",
   "metadata": {},
   "outputs": [],
   "source": [
    "type(iterable_list)"
   ]
  },
  {
   "cell_type": "code",
   "execution_count": null,
   "id": "3f50d741-c520-4f2e-b382-c188b110c165",
   "metadata": {},
   "outputs": [],
   "source": [
    "type(tuple_converted)"
   ]
  },
  {
   "cell_type": "code",
   "execution_count": null,
   "id": "d7c15b88-de73-4938-8154-d8fc06b92e8c",
   "metadata": {},
   "outputs": [],
   "source": [
    "# set(): Converts an iterable to a set (removing duplicates)\n",
    "iterable_set = [1, 2, 2, 3]\n",
    "set_converted = set(iterable_set)\n",
    "print(set_converted)  # Output: {1, 2, 3}"
   ]
  },
  {
   "cell_type": "code",
   "execution_count": null,
   "id": "9e781855-9238-4726-9eaa-7325cc733870",
   "metadata": {},
   "outputs": [],
   "source": [
    "type(iterable_set)"
   ]
  },
  {
   "cell_type": "code",
   "execution_count": null,
   "id": "943f0888-6612-4eb2-81b5-97a269854914",
   "metadata": {},
   "outputs": [],
   "source": [
    "type(set_converted)"
   ]
  },
  {
   "cell_type": "code",
   "execution_count": null,
   "id": "8fe8c215-fd77-43c9-9a41-9fa40fcefc8f",
   "metadata": {},
   "outputs": [],
   "source": [
    "# dict(): Creates a dictionary from a sequence of key-value pairs\n",
    "key_value_pairs = [('a', 1), ('b', 2)]\n",
    "dict_converted = dict(key_value_pairs)\n",
    "print(dict_converted)  # Output: {'a': 1, 'b': 2}"
   ]
  },
  {
   "cell_type": "code",
   "execution_count": null,
   "id": "5babbe98-af88-44e7-b0c0-b70a10638fa3",
   "metadata": {},
   "outputs": [],
   "source": [
    "type(key_value_pairs)"
   ]
  },
  {
   "cell_type": "code",
   "execution_count": null,
   "id": "a50475e7-493b-424f-9c8e-471c8f8523bd",
   "metadata": {},
   "outputs": [],
   "source": [
    "type(dict_converted)"
   ]
  },
  {
   "cell_type": "markdown",
   "id": "2a449256-ec89-4db6-aa85-08193100abc0",
   "metadata": {},
   "source": [
    "### Sting\n",
    "- Sting methods\n",
    "    - https://docs.python.org/3/library/stdtypes.html#string-methods\n",
    "- Formated strings\n",
    "- Conversion"
   ]
  },
  {
   "cell_type": "code",
   "execution_count": null,
   "id": "fb4df7aa-c74f-46ca-b878-976b2f794343",
   "metadata": {},
   "outputs": [],
   "source": [
    "#Concatenation with multiplication\n",
    "#.strip() removes extra whitespace at the beginning and end of the string\n",
    "athlete_name = ((\"Roger\" + \" \" + \"Federer\" + \" \") * 2).strip()\n",
    "print(athlete_name)"
   ]
  },
  {
   "cell_type": "code",
   "execution_count": null,
   "id": "9f71f794-8946-410a-b73f-f68fe52a6feb",
   "metadata": {},
   "outputs": [],
   "source": [
    "# .strip(), .lower() and .upper() are string methods\n",
    "lower_name = (\"Roger\" + \" \" + \"Federer\").lower()\n",
    "upper_name = (\"Roger\" + \" \" + \"Federer\").upper()\n",
    "print(lower_name)\n",
    "print(upper_name)"
   ]
  },
  {
   "cell_type": "markdown",
   "id": "0a09f954-03fc-438c-bfb7-50bfc9b89edb",
   "metadata": {},
   "source": [
    "### EXERCISE - Evolution of investment depending on political party\n",
    "- The investment varies depending on which party you lead: the Bears, Cats, Dogs.\n",
    "- Dogs the rate is 2.5%\n",
    "- Cats the rate is 2.6%\n",
    "- Bears the rate is 100%\n",
    "- Others the rate is 1%\n",
    "\n",
    "|Party|Rate|\n",
    "|-----|----|\n",
    "|Dogs|2.5|\n",
    "|Cats|2.6|\n",
    "|Bears|100|\n",
    "|Others|1|\n"
   ]
  },
  {
   "cell_type": "code",
   "execution_count": null,
   "id": "ffd789e5-198e-4e67-b35a-c6a14cda2ff2",
   "metadata": {},
   "outputs": [],
   "source": [
    "# instructions:\n",
    "# receive the initial investment value\n",
    "initial_value = float(input(\"Initial investment value:\"))\n",
    "\n",
    "# receive which party formed the government\n",
    "party = input(\"Party in government:\")\n",
    "party = party.lower()\n",
    "# assign corresponding rate for that party\n",
    "if party == \"dogs\":\n",
    "  rate = 2.5\n",
    "elif party == \"cats\":\n",
    "  rate = 2.6\n",
    "elif party == \"bears\":\n",
    "  rate = 100\n",
    "else:\n",
    "  rate = 1\n",
    "\n",
    "# normalize rate\n",
    "rate /= 100\n",
    "\n",
    "# the value after 1 year\n",
    "year_1_value = initial_value + initial_value * rate\n",
    "print(f\"Value after 1 year: {year_1_value}\")\n",
    "# the value after 2 years\n",
    "year_2_value = year_1_value * (1 + rate)\n",
    "print(f\"Value after 2 years: {year_2_value}\")\n",
    "# the value after 3 years\n",
    "year_3_value = year_2_value * (1 + rate)\n",
    "print(f\"Value after 3 years: {year_3_value}\")  # f means format, is the same\n",
    "print(\"Value after 3 years: {}\".format(year_3_value))\n",
    "print(\"Value after 3 years: %f\" % year_3_value)  # Three methods of accomplishing this"
   ]
  },
  {
   "cell_type": "markdown",
   "id": "c880e4f9-a7d4-46eb-b89c-0243f62c3398",
   "metadata": {},
   "source": [
    "This code is too repetitive and tiresome; it needs to be reviewed and done in cycles"
   ]
  },
  {
   "cell_type": "markdown",
   "id": "5f15b85c-9436-40cb-bcf2-9c306a6e91e6",
   "metadata": {},
   "source": [
    "### Making Decisions: Condicionals - if, elif & else\n",
    "    - A program has very limited functionality if it's not able to make decisions.\n",
    "    - Conditionals enable us to execute a portion of code based on some decision.\n",
    "    - In Python, we state conditionals with the if statement.\n",
    "    - Comparison operator (==)\n",
    "    - BOOLEAN LOGIC\n",
    "        - and, or, not\n",
    "        - & | ~"
   ]
  },
  {
   "cell_type": "code",
   "execution_count": null,
   "id": "a709c1f3-6939-453f-ac7b-6d7befa83914",
   "metadata": {},
   "outputs": [],
   "source": [
    "battery_pct = float(input(\"% of battery: \"))\n",
    "fuel_pct = float(input(\"% of fuel: \"))\n",
    "if battery_pct >= 5:\n",
    "    if fuel_pct <= 10:\n",
    "        action = \"Refuel\"\n",
    "    elif 10 < fuel_pct <= 30:\n",
    "        action = \"Short Trip\"\n",
    "    elif 30 < fuel_pct <= 75:\n",
    "        action = \"Normal Trip\"\n",
    "    else:\n",
    "        action = \"Long Trip\"\n",
    "else:\n",
    "    action = \"Charge the Battery\"\n",
    "\n",
    "print(action)"
   ]
  },
  {
   "cell_type": "markdown",
   "id": "e67bbc1c-65fa-46c0-bb25-9abdd8fdd668",
   "metadata": {},
   "source": [
    "This is generally not good practice, it would be better to decompose this into different functions and make it more readable."
   ]
  },
  {
   "cell_type": "markdown",
   "id": "bf0663b7-0fdf-4b7c-b7cc-0bbd1b493677",
   "metadata": {},
   "source": [
    "### BOOLEAN LOGIC: and or not"
   ]
  },
  {
   "cell_type": "code",
   "execution_count": null,
   "id": "aab8b334-8d65-4dfc-bd0b-e75908b248c2",
   "metadata": {},
   "outputs": [],
   "source": [
    "# Checks if a number is between 10 and 20, or is less than 5 and not equal to 0\n",
    "number = int(input(\"Enter the number: \"))\n",
    "if (number >= 10 and number <= 20) or (number < 5 and number != 0):\n",
    "    print(\"The number is within the desired range or is less than 5 and not equal to zero.\")\n",
    "else:\n",
    "    print(\"The number does not satisfy the desired conditions.\")"
   ]
  },
  {
   "cell_type": "markdown",
   "id": "aeff6ef2-6323-4404-8e0f-781a3ff5c0b2",
   "metadata": {},
   "source": [
    "### Checks if a number is between 10 and 20, or is less than 5 and not equal to 0, using the not operator\n",
    "\n",
    "```python\n",
    "number = int(input(\"Enter the number: \"))\n",
    "if not ((number < 10 or number > 20) and (number >= 5 or number == 0)):\n",
    "    print(\"The number is within the desired range or is less than 5 and not equal to zero.\")\n",
    "else:\n",
    "    print(\"The number does not satisfy the desired conditions.\")\n",
    "```"
   ]
  },
  {
   "cell_type": "markdown",
   "id": "8f634fdc-d2b2-4362-9905-7ef75c4cce04",
   "metadata": {},
   "source": [
    "### Installing Packages - pip install packages\n",
    "- \n",
    "The exclamation point (!) is used in some command-line interfaces, such as Jupyter Notebook and Google Colab, to indicate that the command should be executed in the operating system rather than interpreted as Python code. In environments like these, terminal commands start with an exclamation point to differentiate them from Python codes"
   ]
  },
  {
   "cell_type": "code",
   "execution_count": null,
   "id": "ca6e3b70-6c09-478a-b1a3-fa5e15701a2e",
   "metadata": {},
   "outputs": [],
   "source": [
    "# Installing Pandas\n",
    "!pip install pandas"
   ]
  },
  {
   "cell_type": "markdown",
   "id": "b44967f5-c382-4f6a-bd7e-15533a9309a3",
   "metadata": {},
   "source": [
    "https://pandas.pydata.org/docs/"
   ]
  },
  {
   "cell_type": "code",
   "execution_count": null,
   "id": "5b604d98-bd4d-4e43-b26b-e6a49ab4dbd7",
   "metadata": {},
   "outputs": [],
   "source": [
    "# Importing packages\n",
    "# It's common practice to import Pandas with an alias\n",
    "import pandas as pd\n",
    "# Reading the Excel file directly into a DataFrame\n",
    "df = pd.read_excel(r\"C:\\Users\\Miguel Caldeira\\Documents\\GitHub\\Data-Science-Projects\\Postgrad_AI_ML\\Python_Introduction\\Book1.xlsx\")\n",
    "df"
   ]
  },
  {
   "cell_type": "markdown",
   "id": "49e3b236-4be5-490a-a684-4a638cd836ae",
   "metadata": {},
   "source": [
    "### Boolean Logic: & | ~"
   ]
  },
  {
   "cell_type": "code",
   "execution_count": null,
   "id": "eb317c46-73c4-4ae6-8be8-e5627615f564",
   "metadata": {},
   "outputs": [],
   "source": [
    "# Creating a mask using boolean logic\n",
    "mask = (df['age'] > 25) & (df['height'] < 175)  # Using '&' condition\n",
    "df[mask]"
   ]
  },
  {
   "cell_type": "code",
   "execution_count": null,
   "id": "64ea2825-a9a0-4d8d-abd7-8ca327163be6",
   "metadata": {},
   "outputs": [],
   "source": [
    "mask_2 = (df[\"age\"] < 30) & ((df[\"height\"] >= 175) | (df[\"height\"] <= 170))\n",
    "df[mask_2]"
   ]
  },
  {
   "cell_type": "code",
   "execution_count": null,
   "id": "a8577ae8-5669-4d9f-9bc7-fd2b03ebf599",
   "metadata": {},
   "outputs": [],
   "source": [
    "# Using 'not' condition\n",
    "mask_not = ~(df['name'].str.startswith('D'))\n",
    "df[mask_not]"
   ]
  },
  {
   "cell_type": "code",
   "execution_count": null,
   "id": "71cabab3-5246-4913-bf97-f089151f35fb",
   "metadata": {},
   "outputs": [],
   "source": [
    "df[\"age\"] > 26"
   ]
  },
  {
   "cell_type": "code",
   "execution_count": null,
   "id": "67a79cd3-cd88-4412-83df-8aa709cd4d8e",
   "metadata": {},
   "outputs": [],
   "source": [
    "a_up26 = df[\"age\"] > 26\n",
    "df[a_up26]"
   ]
  },
  {
   "cell_type": "code",
   "execution_count": null,
   "id": "997dc1d3-3d13-4f34-851e-c96304265946",
   "metadata": {},
   "outputs": [],
   "source": [
    "df[\"height\"] > 170"
   ]
  },
  {
   "cell_type": "code",
   "execution_count": null,
   "id": "74653d31-3b71-4a13-b913-91f59119c73a",
   "metadata": {},
   "outputs": [],
   "source": [
    "h_up170 = df[\"height\"] > 170\n",
    "df[h_up170]"
   ]
  },
  {
   "cell_type": "code",
   "execution_count": null,
   "id": "3fef37dc-26fc-400f-a357-5c88f86a9ce9",
   "metadata": {},
   "outputs": [],
   "source": [
    "(df[\"age\"] > 26) & (df[\"height\"] < 170)"
   ]
  },
  {
   "cell_type": "code",
   "execution_count": null,
   "id": "f4795537-5552-4f06-88c1-0fc534759b9a",
   "metadata": {},
   "outputs": [],
   "source": [
    "a_up26_h_low170 = (df[\"age\"] > 26) & (df[\"height\"] < 170)\n",
    "df[a_up26_h_low170]"
   ]
  },
  {
   "cell_type": "markdown",
   "id": "a88181d4-a43c-493d-859d-bb5932af4aab",
   "metadata": {},
   "source": [
    "<h2 style=\"color:orange;\">Lists and Tuples</h2>\n",
    "\n",
    "- Data structures\n",
    "- So far we've stored only single values in variables\n",
    "- Python's list allows us to store multiple values"
   ]
  },
  {
   "cell_type": "code",
   "execution_count": null,
   "id": "bd2a1d80-8e9a-43c9-af5e-ea360e8f1bac",
   "metadata": {},
   "outputs": [],
   "source": [
    "# Create Empty List\n",
    "l1 = list()\n",
    "l2 = []\n",
    "# Create list with content\n",
    "lst_ints = [1,2,3,4,5]\n",
    "lst_floats = [3.14, 9.8, 6.64e-34]\n",
    "lst_str = [\"cobra\", \"anaconda\", \"python\"]\n",
    "lst_mixed = [1, 3.14, \"cobra\"]\n",
    "# Size of the list len() function # and many other data structures\n",
    "len(lst_ints)"
   ]
  },
  {
   "cell_type": "code",
   "execution_count": null,
   "id": "d1a341c0-77bf-4e0a-ad32-c82d3eb1e4e1",
   "metadata": {},
   "outputs": [],
   "source": [
    "# Adding Elements\n",
    "# Like strings, lists have several methods that help with their interaction.\n",
    "lst_floats = [3.14, 9.8, 6.64e-34]\n",
    "lst_floats.append(1.61) # add golden ratio\n",
    "lst_floats += [2.7] # add euler's constant, less efficient\n",
    "print(lst_floats) # -> [3.14, 9.8, 6.64e-34, 1.61, 2.7]"
   ]
  },
  {
   "cell_type": "code",
   "execution_count": null,
   "id": "e560e72f-e13f-4f92-948a-f85700ffbb96",
   "metadata": {},
   "outputs": [],
   "source": [
    "# Lists support the + operator: the list on the right is concatenated to the list on the left\n",
    "lst_floats = lst_floats + [2.7]\n",
    "print(lst_floats)"
   ]
  },
  {
   "cell_type": "code",
   "execution_count": null,
   "id": "689fc931-44d7-41e2-9267-74292b489574",
   "metadata": {},
   "outputs": [],
   "source": [
    "# We can also add elements at specific positions with the .insert method\n",
    "# add the double of pi at index 0\n",
    "lst_floats.insert(0, 3.14*2)\n",
    "print(lst_floats)"
   ]
  },
  {
   "cell_type": "markdown",
   "id": "0db1601e-a1da-47bf-ad8f-9f02dbe2cecf",
   "metadata": {},
   "source": [
    "### Slicing"
   ]
  },
  {
   "cell_type": "code",
   "execution_count": null,
   "id": "26ea721c-e5aa-4386-a14c-104bee460531",
   "metadata": {},
   "outputs": [],
   "source": [
    "# GETTING AN ELEMENT\n",
    "# List indeces are 0-based.\n",
    "l = [1,2,3,4,5,6]"
   ]
  },
  {
   "cell_type": "code",
   "execution_count": null,
   "id": "6502a3c4-d5fd-43ff-9094-728ebfa4b996",
   "metadata": {},
   "outputs": [],
   "source": [
    "l[0] # gives the 1st element -> 1"
   ]
  },
  {
   "cell_type": "code",
   "execution_count": null,
   "id": "4af6e84d-b607-42a3-adf1-37c2c08c8427",
   "metadata": {},
   "outputs": [],
   "source": [
    "l[1] # gives the 2nd element -> 2"
   ]
  },
  {
   "cell_type": "code",
   "execution_count": null,
   "id": "1b7eb071-abe6-4e03-a8d6-eed59142d818",
   "metadata": {},
   "outputs": [],
   "source": [
    "l[-1] # gives the last element -> 6"
   ]
  },
  {
   "cell_type": "code",
   "execution_count": null,
   "id": "03d7abf0-de25-424f-b6d3-c0189d017f2a",
   "metadata": {},
   "outputs": [],
   "source": [
    "l[-2] # gives the second last element -> 5"
   ]
  },
  {
   "cell_type": "code",
   "execution_count": null,
   "id": "e2f637b6-19c2-4e4f-8b89-bd5aa5f8f150",
   "metadata": {},
   "outputs": [],
   "source": [
    "# SLICING\n",
    "# We may get a slice of the list\n",
    "l = [1,2,3,4,5,6]\n",
    "l[0:3] # returns a list with all elements\n",
    "# from the 1st to the 3rd elements\n",
    "# The second index is not included in the slice"
   ]
  },
  {
   "cell_type": "markdown",
   "id": "e6494124-f585-4a0a-bc4e-e8063d6aae7c",
   "metadata": {},
   "source": [
    "### Slicing Rules\n",
    "- list[A:B] or list [A:B:C]\n",
    "- A is the starting index of the slice\n",
    "    - if not supplied, it's assumed to be the beginning\n",
    "- B is the last index of the slice, but is not included\n",
    "    - if not supplied, it's assumed to be the end\n",
    "- C is the jump between consecutive elements\n",
    "    - if not supplied, it's assumed to be 1\n",
    "    - if it is negative, we get elements in the reverse order "
   ]
  },
  {
   "cell_type": "markdown",
   "id": "ad532490-411a-42f0-8e11-ea7f118bef08",
   "metadata": {},
   "source": [
    "SLICING EXAMPLES"
   ]
  },
  {
   "cell_type": "code",
   "execution_count": null,
   "id": "123fe868-616d-4d2a-8f1a-47c78c2161a0",
   "metadata": {},
   "outputs": [],
   "source": [
    "l[0:3] # returns a list with all elements starting\n",
    "# on index 0 and ending on 2 -> [1,2,3]"
   ]
  },
  {
   "cell_type": "code",
   "execution_count": null,
   "id": "7b0d66f8-acc1-4d36-8232-eca0f2f2326d",
   "metadata": {},
   "outputs": [],
   "source": [
    "l[0:1] # returns a list with just the 1st element -> [1]"
   ]
  },
  {
   "cell_type": "code",
   "execution_count": null,
   "id": "6a0cb561-7a74-49ac-82a8-79d226956cfb",
   "metadata": {},
   "outputs": [],
   "source": [
    "l[1:1] # returns an empty list -> []"
   ]
  },
  {
   "cell_type": "code",
   "execution_count": null,
   "id": "2083f5c3-27c0-4c21-8cd1-65b6b0d17f91",
   "metadata": {},
   "outputs": [],
   "source": [
    "l[:] # returns all elements of the list -> [1,2,3,4,5,6]"
   ]
  },
  {
   "cell_type": "code",
   "execution_count": null,
   "id": "c86e98bf-b450-494f-9591-15ef2f6c0309",
   "metadata": {},
   "outputs": [],
   "source": [
    "l[:-2] # returns all elements except the last 2 -> [1,2,3,4]"
   ]
  },
  {
   "cell_type": "code",
   "execution_count": null,
   "id": "9b819851-82b7-4625-b03a-5b08cb2d7283",
   "metadata": {},
   "outputs": [],
   "source": [
    "l[-3:-1] # all elements starting on the 3rd last position\n",
    "# and finishing on the 2nd last -> [4,5]"
   ]
  },
  {
   "cell_type": "code",
   "execution_count": null,
   "id": "e03326d8-40e1-4263-b978-6447130a93da",
   "metadata": {},
   "outputs": [],
   "source": [
    "l[-3:] # all elements from the 3rd last onwards -> [4,5,6]"
   ]
  },
  {
   "cell_type": "code",
   "execution_count": null,
   "id": "5d19b242-25d8-4d38-bdd6-65f5c4c28e05",
   "metadata": {},
   "outputs": [],
   "source": [
    "l[::2] # every other element, starting on index 0 -> [1,3,5]"
   ]
  },
  {
   "cell_type": "code",
   "execution_count": null,
   "id": "b29bc25e-3007-40b8-93ac-781aadfd0355",
   "metadata": {},
   "outputs": [],
   "source": [
    "l[1::2] # every other element, starting on index 1 -> [2,4,6]"
   ]
  },
  {
   "cell_type": "code",
   "execution_count": null,
   "id": "f9f20f58-adc5-4ad2-b054-ab494724a88c",
   "metadata": {},
   "outputs": [],
   "source": [
    "l[1::3] # every 3rd element, starting on index 1 -> [2,5]"
   ]
  },
  {
   "cell_type": "code",
   "execution_count": null,
   "id": "9fc539e7-9a9d-43a1-a63e-4a91b402311f",
   "metadata": {},
   "outputs": [],
   "source": [
    "l[::-1] # all elements in reverse order -> [6,5,4,3,2,1]"
   ]
  },
  {
   "cell_type": "code",
   "execution_count": null,
   "id": "e35615b2-8c23-4846-a93a-6be996d177c9",
   "metadata": {},
   "outputs": [],
   "source": [
    "l[::-2] # every other element in reverse order -> [6,4,2]"
   ]
  },
  {
   "cell_type": "code",
   "execution_count": null,
   "id": "abfa3d01-0443-491e-bd06-706410569a20",
   "metadata": {},
   "outputs": [],
   "source": [
    "l[4:0:-1] # all elements from the 5th to the 2st in reverse -> [5,4,3,2]"
   ]
  },
  {
   "cell_type": "code",
   "execution_count": null,
   "id": "6277eefd-8d37-49d0-9e8e-a27bbd64bfb0",
   "metadata": {},
   "outputs": [],
   "source": [
    "l[-2:0:-1] # all elements from the 2th last to the 1st in reverse -> [5,4,3,2]"
   ]
  },
  {
   "cell_type": "markdown",
   "id": "8d53454a-58f2-42c0-b3f2-e7494619e894",
   "metadata": {},
   "source": [
    "REMOVING AN ELEMENT"
   ]
  },
  {
   "cell_type": "code",
   "execution_count": null,
   "id": "5f10abaa-4874-4183-8c23-2f813ab6f78e",
   "metadata": {},
   "outputs": [],
   "source": [
    "# The remove method deletes a given value from the list.\n",
    "# If it exists more than once in the list, the 1st occurrence is removed.\n",
    "# lst_floats.remove(9.8) # removes the value"
   ]
  },
  {
   "cell_type": "code",
   "execution_count": null,
   "id": "2b5ccf7a-5856-4caa-a76c-7188a7b02221",
   "metadata": {},
   "outputs": [],
   "source": [
    "# CONCATENATE 2 LISTS\n",
    "lx = [2, 25]\n",
    "lx.extend(lst_floats)\n",
    "lx += lst_floats\n",
    "print(lx)"
   ]
  },
  {
   "cell_type": "code",
   "execution_count": null,
   "id": "7e965486-9db3-4307-a538-66f7fa4d9f1f",
   "metadata": {},
   "outputs": [],
   "source": [
    "# Counting\n",
    "lx.count(2.7)"
   ]
  },
  {
   "cell_type": "code",
   "execution_count": null,
   "id": "8fc6df07-7f44-4342-9cf5-88ded2d50fd5",
   "metadata": {},
   "outputs": [],
   "source": [
    "# Check Existence\n",
    "if 3.14 in lx:\n",
    "    print(\"We have a Pi\")\n",
    "# The in operator checks if thee value on the left exists inside the data structure on the right"
   ]
  },
  {
   "cell_type": "code",
   "execution_count": null,
   "id": "b9a5d5d2-bd41-45b2-83fc-7aa2fa34ba6d",
   "metadata": {},
   "outputs": [],
   "source": [
    "# .index\n",
    "pi_pos = lx.index(3.14)\n",
    "print(f\"I found Pi at index {pi_pos}\")\n",
    "# The .index method returns the position where the given value is in the list.\n",
    "# If the value is not in the list, a ValueError is thrown (like .remove())."
   ]
  },
  {
   "cell_type": "markdown",
   "id": "1ee6a2b2-45a5-4aa2-82c1-d632313b9042",
   "metadata": {},
   "source": [
    "OTHER METHODS"
   ]
  },
  {
   "cell_type": "code",
   "execution_count": null,
   "id": "e5373fb8-81a7-47a3-812e-dbe36758fdfd",
   "metadata": {},
   "outputs": [],
   "source": [
    "lz = [1, 25, 14, 75, 15, 96, 75]\n",
    "lz.reverse()\n",
    "print(lz)"
   ]
  },
  {
   "cell_type": "code",
   "execution_count": null,
   "id": "2f295e21-cbcf-415e-a061-f8dbeea1b67c",
   "metadata": {},
   "outputs": [],
   "source": [
    "lz = lz[::-1] # equivalent to l.reverse()\n",
    "print(lz)"
   ]
  },
  {
   "cell_type": "code",
   "execution_count": null,
   "id": "2085ff37-1e9b-41af-89a5-52993ca65b5c",
   "metadata": {},
   "outputs": [],
   "source": [
    "lz.sort() # sorts all values\n",
    "print(lz)"
   ]
  },
  {
   "cell_type": "code",
   "execution_count": null,
   "id": "94d0ddc3-7eff-480e-b5fc-379a1b367f11",
   "metadata": {},
   "outputs": [],
   "source": [
    "lz.pop(0) # removes and returns the element at index 0"
   ]
  },
  {
   "cell_type": "code",
   "execution_count": null,
   "id": "586e86c5-702c-4c98-964a-5b46f0f1f1fb",
   "metadata": {},
   "outputs": [],
   "source": [
    "lz.pop() # removes and returns the last element"
   ]
  },
  {
   "cell_type": "markdown",
   "id": "c03b9a66-2409-4f95-b1f2-237706ccaa14",
   "metadata": {},
   "source": [
    "### TUPLE\n",
    "- A tuple works exactly like a list, but doesn't support assignment\n",
    "- It is an imutable data structure\n",
    "- We cannot change its value after creation"
   ]
  },
  {
   "cell_type": "code",
   "execution_count": null,
   "id": "85235c78-31ea-4903-8725-ea2f17e8c9fb",
   "metadata": {},
   "outputs": [],
   "source": [
    "t = (1,2,3,4)\n",
    "t[0] # -> 1\n",
    "# t[0] = 7 -> TypeError: 'tuple' object does not support item assignment"
   ]
  },
  {
   "cell_type": "code",
   "execution_count": null,
   "id": "bdfc9621-a78f-4eac-ad12-f86b12052bb4",
   "metadata": {},
   "outputs": [],
   "source": [
    "# Slicing and concatenation work as in lists\n",
    "t = (1,2,3,4)\n",
    "t[:-1] # -> (1,2,3)"
   ]
  },
  {
   "cell_type": "code",
   "execution_count": null,
   "id": "390e7d61-c961-4da0-b159-37c4bf10b9cf",
   "metadata": {},
   "outputs": [],
   "source": [
    "t + (5,6) # -> (1,2,3,4,5,6)"
   ]
  },
  {
   "cell_type": "markdown",
   "id": "5025fd21-7c14-42a9-b64d-b29379eb0a6a",
   "metadata": {},
   "source": [
    "TUPLE <-> LIST"
   ]
  },
  {
   "cell_type": "code",
   "execution_count": null,
   "id": "359de3b4-7607-4d5c-a6b2-0b44b6df64c8",
   "metadata": {},
   "outputs": [],
   "source": [
    "# Tuple to List\n",
    "l = list(t)\n",
    "print(l)"
   ]
  },
  {
   "cell_type": "code",
   "execution_count": null,
   "id": "b2ac9726-6156-4d15-aa53-b9fe83ee7625",
   "metadata": {},
   "outputs": [],
   "source": [
    "# List to Tuple\n",
    "t2 = tuple([5,6,7,8])\n",
    "print(t2)"
   ]
  },
  {
   "cell_type": "markdown",
   "id": "d982ce8e-1060-42c3-89ed-98169cfa4b35",
   "metadata": {},
   "source": [
    "### Unpacking Lists and Tuples\n",
    "- Very important in functions in Python to return tuples with multiple values."
   ]
  },
  {
   "cell_type": "code",
   "execution_count": null,
   "id": "67bbf0fd-2639-451e-99cc-ac92b3219b80",
   "metadata": {},
   "outputs": [],
   "source": [
    "# Unpacking with tuples\n",
    "t = (1,2,3)\n",
    "a,b,c = t # now a=1, b=2, c=3\n",
    "print(a)"
   ]
  },
  {
   "cell_type": "code",
   "execution_count": null,
   "id": "791c1828-3322-4322-8e2b-51f630028933",
   "metadata": {},
   "outputs": [],
   "source": [
    "# Unpacking with lists\n",
    "l = [4,5,6]\n",
    "a,b,c = l # a=4, b=5, c=6\n",
    "print(c)"
   ]
  },
  {
   "cell_type": "code",
   "execution_count": null,
   "id": "37452d7a-4ea6-4d20-b3dd-22eeef0e1f7b",
   "metadata": {},
   "outputs": [],
   "source": [
    "# Unpacking lists with many values into variables\n",
    "l=[1,2,3,4,5,6]\n",
    "a,b,*nums = l # a=1, b=2, nums=[3,4,5,6]\n",
    "print(nums)"
   ]
  },
  {
   "cell_type": "markdown",
   "id": "49a9d49b-0757-4a6f-b4fc-8571a35b8934",
   "metadata": {},
   "source": [
    "### Loops: while, for\n",
    "- As long as this is true, print this, otherwise print this.\n",
    "- If we want to perform the cycle 10 times, we are iterating 10 times.\n",
    "- At each iteration we will check the status.\n",
    "- What is being used fot the condition must change, otherwise we might have an infinite loop."
   ]
  },
  {
   "cell_type": "code",
   "execution_count": null,
   "id": "39dc3d59-a84e-42a2-8ad6-c3027b81a51c",
   "metadata": {},
   "outputs": [],
   "source": [
    "is_coffee_ready = False\n",
    "while is_coffee_ready != True:\n",
    "    print(\"continue groggy\")\n",
    "    is_coffee_ready = check_coffee_status()\n",
    "    # This would be an iteration that would communicate with the coffee machine\n",
    "    # At some point the coffee will be ready and we exit the cycle."
   ]
  },
  {
   "cell_type": "code",
   "execution_count": null,
   "id": "f5afba6e-2920-4ce8-9dd1-812b1838cda5",
   "metadata": {},
   "outputs": [],
   "source": [
    "# Define a list - Fibonacci numbers\n",
    "lf = [1, 2, 3, 5, 8, 13]\n",
    "\n",
    "# Initialize variables for total sum and list index\n",
    "total, i = 0, 0\n",
    "\n",
    "# Iterate through the list until the end is reached\n",
    "while i < len(lf):\n",
    "    # Add the current element to the total sum\n",
    "    total += lf[i]\n",
    "    # Move to the next element in the list\n",
    "    i += 1\n",
    "\n",
    "# Print the final sum of all elements in the list\n",
    "print(total)\n",
    "\n",
    "# Actually, Python has the sum function, so don't do that"
   ]
  },
  {
   "cell_type": "code",
   "execution_count": null,
   "id": "eeaf9a05-5f98-4d64-b98c-2093049e66e9",
   "metadata": {},
   "outputs": [],
   "source": [
    "# Actually, Python has the sum function, so don't do that\n",
    "total = sum(lf)\n",
    "print(total)"
   ]
  },
  {
   "cell_type": "markdown",
   "id": "4b23256d-15ec-4908-868a-05eb6f241f8d",
   "metadata": {},
   "source": [
    "- Initialize variables for total sum and list index\n",
    "    - total, i = 0, 0\n",
    "- É igual:\n",
    "    - total = 0\n",
    "    - i = 0"
   ]
  },
  {
   "cell_type": "markdown",
   "id": "090b3dd7-0e17-41eb-ba3a-8b449954a8ce",
   "metadata": {},
   "source": [
    "- We had to declare a variable just for increasing the position of the list element, but we also have the for loop wich makes this kind of logic easier."
   ]
  },
  {
   "cell_type": "code",
   "execution_count": null,
   "id": "24de4d21-2855-4458-83b1-117de7c7a0dd",
   "metadata": {},
   "outputs": [],
   "source": [
    "# Define a list - Fibonacci numbers\n",
    "lf = [1, 2, 3, 5, 8, 13]\n",
    "\n",
    "# Initialize a variable named total to store the sum of elements\n",
    "total = 0\n",
    "\n",
    "# Iterate over the indices of the list 'l' using the range function\n",
    "for i in range(len(lf)):\n",
    "    # Access each element of the list using its index and add it to the 'total'\n",
    "    total += lf[i]\n",
    "\n",
    "# Print the final total sum\n",
    "print(total)\n",
    "\n",
    "# Here the range funcion returns a list from 0 to thee size of the list lf [0, 1, 2, 3, 4, 5]"
   ]
  },
  {
   "cell_type": "code",
   "execution_count": null,
   "id": "78cbe51a-62f1-4303-bcc8-bf3feca5927f",
   "metadata": {},
   "outputs": [],
   "source": [
    "movies = [\"Matrix\", \"Dune\", \"Terminator\"]\n",
    "total = 0\n",
    "for i in range(len(movies)):\n",
    "    print(f\"movie={movies[i]}\")"
   ]
  },
  {
   "cell_type": "markdown",
   "id": "e1fe5ce3-a024-4a23-9704-f6fa23e08a5d",
   "metadata": {},
   "source": [
    "### Range"
   ]
  },
  {
   "cell_type": "markdown",
   "id": "c7ebc257-2afe-460d-b8cd-46a3bba0adc4",
   "metadata": {},
   "source": [
    "- Actually, range() returns an iterable that goes from a number to another higher number.\n",
    "- We can convert this iterable to a list easily\n",
    "- But we don't have to do it in the context of the loop."
   ]
  },
  {
   "cell_type": "code",
   "execution_count": null,
   "id": "987471fe-6f7a-4639-8b14-c9dcb8df8891",
   "metadata": {},
   "outputs": [],
   "source": [
    "list(range(3)) # -> [0,1,2]"
   ]
  },
  {
   "cell_type": "code",
   "execution_count": null,
   "id": "0910ab23-4952-4814-91ac-a88658bb4291",
   "metadata": {},
   "outputs": [],
   "source": [
    "list(range(2,6)) # -> [2,3,4,5]"
   ]
  },
  {
   "cell_type": "code",
   "execution_count": null,
   "id": "00434969-ae5d-4be7-a8f7-659fabf3d453",
   "metadata": {},
   "outputs": [],
   "source": [
    "list(range(0,10,2)) # -> [0,2,4,6,8]"
   ]
  },
  {
   "cell_type": "code",
   "execution_count": null,
   "id": "c46c9222-c47a-4c1c-9193-a2fe11693ba6",
   "metadata": {},
   "outputs": [],
   "source": [
    "list(range(10,0,-2)) # -> [10,8,6,4,2]"
   ]
  },
  {
   "cell_type": "code",
   "execution_count": null,
   "id": "f27e3ef3-2dd7-4e77-aa2b-ddce24f07bee",
   "metadata": {},
   "outputs": [],
   "source": [
    "range(5)"
   ]
  },
  {
   "cell_type": "code",
   "execution_count": null,
   "id": "ed9c47a1-4d08-4403-b3b6-608ad2744cae",
   "metadata": {},
   "outputs": [],
   "source": [
    "list(range(5))"
   ]
  },
  {
   "cell_type": "code",
   "execution_count": null,
   "id": "dbe813e3-386a-457f-a998-e99025897bb7",
   "metadata": {},
   "outputs": [],
   "source": [
    "list(range(2,5))"
   ]
  },
  {
   "cell_type": "code",
   "execution_count": null,
   "id": "a35bf919-b272-4b0e-9986-31d6aae9f195",
   "metadata": {},
   "outputs": [],
   "source": [
    "list(range(2,50, 5))"
   ]
  },
  {
   "cell_type": "markdown",
   "id": "6931bfb0-50e2-432c-b040-75f8fab67be4",
   "metadata": {},
   "source": [
    "- What is an iterable?\n",
    "    - a\n",
    "- What is an iteration?\n",
    "    - a"
   ]
  },
  {
   "cell_type": "code",
   "execution_count": null,
   "id": "cc12a957-44b8-4731-9cc9-336cfd5087cd",
   "metadata": {},
   "outputs": [],
   "source": [
    "for movie in movies:\n",
    "  print(movie)"
   ]
  },
  {
   "cell_type": "markdown",
   "id": "00503433-de35-478f-811a-a0473ba374ce",
   "metadata": {},
   "source": [
    "### Enumerate\n",
    "- Let's now say we given a list of phrases and want to print the position of the phrases that include the word \"Python\"."
   ]
  },
  {
   "cell_type": "code",
   "execution_count": null,
   "id": "07080e78-6dfb-453e-805d-d94ab4939593",
   "metadata": {},
   "outputs": [],
   "source": [
    "phrases = [\n",
    "\"The last patient was bitten by a Python.\",\n",
    "\"The number of bites of last year is the highest ever.\",\n",
    "\"The number of Pythons in the wild must have increased.\",\n",
    "\"We must implement some policy to help us.\"\n",
    "]"
   ]
  },
  {
   "cell_type": "code",
   "execution_count": null,
   "id": "08313c95-2c95-4e19-b7dc-248f01b5f62c",
   "metadata": {},
   "outputs": [],
   "source": [
    "# One way to solve this would be to use the range() function\n",
    "for i in range(len(phrases)):\n",
    "    if \"Python\" in phrases[i]:\n",
    "        print(i)"
   ]
  },
  {
   "cell_type": "code",
   "execution_count": null,
   "id": "6b727bf7-74a5-486b-95cd-3aecab3448a6",
   "metadata": {},
   "outputs": [],
   "source": [
    "for phrase in phrases:\n",
    "    if \"Python\" in phrase:\n",
    "        print(phrase)"
   ]
  },
  {
   "cell_type": "code",
   "execution_count": null,
   "id": "876caa55-f594-4891-960a-74f10605c725",
   "metadata": {},
   "outputs": [],
   "source": [
    "# The enumerate funcion can help us here:\n",
    "for i, phrase in enumerate(phrases):\n",
    "    if \"Python\" in phrases[i]:\n",
    "        print(i)\n",
    "# Enumerate receives a list and returns a list of tuples\n",
    "# - 1st element of each tuple is the index of each value\n",
    "# - 2nd element is the value on that position"
   ]
  },
  {
   "cell_type": "code",
   "execution_count": null,
   "id": "920c9eb7-8f3f-4029-bb3f-e000d694f2c7",
   "metadata": {},
   "outputs": [],
   "source": [
    "for x in enumerate(phrases):\n",
    "    print(x)\n",
    "# Each iteration is returning a tuple with the position of the element and the element itself."
   ]
  },
  {
   "cell_type": "code",
   "execution_count": null,
   "id": "a2a57c56-d404-4bb9-8ae2-7d0d36058b6a",
   "metadata": {},
   "outputs": [],
   "source": [
    "lc = [2,4,6,8]\n",
    "list(enumerate(lc)) # -> [(0,2), (1,4), (2,6), (3,8)]\n",
    "# Actually, enumerate returns an iterable\n",
    "# That's why we convert it to a list in the above example\n",
    "# It also can receive any iterable, not just a list"
   ]
  },
  {
   "cell_type": "code",
   "execution_count": null,
   "id": "fc2bb466-158e-47f4-9b6e-21b1a766b63f",
   "metadata": {},
   "outputs": [],
   "source": [
    "# Enumerate can also start on any number we want\n",
    "list(enumerate(lc, start=-1)) # -> [(-1,2), (0,4), (1,6), (2,8)]"
   ]
  },
  {
   "cell_type": "markdown",
   "id": "c0ec13b6-17a6-49f0-86f5-50f19a752037",
   "metadata": {},
   "source": [
    "### Zip"
   ]
  },
  {
   "cell_type": "code",
   "execution_count": null,
   "id": "e9215ca2-e751-4b9a-9106-f8184b532ad3",
   "metadata": {},
   "outputs": [],
   "source": [
    "# Let's now say we have a list of names and ages and want to print them.\n",
    "names = [\"Saramago\", \"Pessoa\", \"Camões\"]\n",
    "ages = [87, 47, 56]\n",
    "# Using what we know, we can implement it like this:\n",
    "for i in range(len(names)):\n",
    "    print(f\"The writer {names[i]} died with {ages[i]} years.\")"
   ]
  },
  {
   "cell_type": "code",
   "execution_count": null,
   "id": "62f99b10-0a37-4c0c-bd4f-8e015f90b0ea",
   "metadata": {},
   "outputs": [],
   "source": [
    "# But the zip function can simplify this,\n",
    "for name, age in zip(names, ages):\n",
    "    print(f\"The writer {name} died with {age} years.\")"
   ]
  },
  {
   "cell_type": "code",
   "execution_count": null,
   "id": "73ff7537-453c-4556-8494-679af61d219c",
   "metadata": {},
   "outputs": [],
   "source": [
    "# Zip receives 2 or more lists and creates a new list where each element is a tuple with the values of the original 2 lists\n",
    "names = [\"Saramago\", \"Pessoa\", \"Camões\"]\n",
    "ages = [87, 47, 56]\n",
    "print(list(zip(names, ages)))"
   ]
  },
  {
   "cell_type": "code",
   "execution_count": null,
   "id": "801f034b-971a-4272-8b91-cbe58af19dd6",
   "metadata": {},
   "outputs": [],
   "source": [
    "le = [\"a\", \"b\", \"c\"]\n",
    "lg = [0, 1, 2]\n",
    "list(zip(lg, le))"
   ]
  },
  {
   "cell_type": "code",
   "execution_count": null,
   "id": "b362405e-e899-48d0-b5b4-2c4e624c1bed",
   "metadata": {},
   "outputs": [],
   "source": [
    "le = [\"a\", \"b\", \"c\"]\n",
    "lg = range(len(le))\n",
    "list(zip(lg, le))"
   ]
  },
  {
   "cell_type": "code",
   "execution_count": null,
   "id": "58971694-6e09-4c09-ba82-85edb18843a7",
   "metadata": {},
   "outputs": [],
   "source": [
    "for i, ch in zip(le, lg):\n",
    "   print(i, ch)"
   ]
  },
  {
   "cell_type": "code",
   "execution_count": null,
   "id": "de576b74-8402-4507-ba60-93fc8d993e4e",
   "metadata": {},
   "outputs": [],
   "source": [
    "for i, ch in enumerate(le):\n",
    "    print(i, ch)"
   ]
  },
  {
   "cell_type": "markdown",
   "id": "0bda10c9-7727-49c8-a4d5-303f36c8eba5",
   "metadata": {},
   "source": [
    "- Zip, like enumerate, actually returns an iterable that's why we converted it to a list before printing.\n",
    "- Zip can receive any iterable, not just lists.\n",
    "- Zip can receive any number of iterables as input\n",
    "- When the size os the input iterables is different, zip will return as iterable with the size of the shorter input."
   ]
  },
  {
   "cell_type": "markdown",
   "id": "845f4b04-483d-4b2d-afbe-b8b1188bc94b",
   "metadata": {},
   "source": [
    "## Comprehensions"
   ]
  },
  {
   "cell_type": "markdown",
   "id": "4b0f3c1d-da25-4269-9a0d-65cdc1c94129",
   "metadata": {},
   "source": [
    "### List Comprehensions\n",
    "- Let's say we would like to create a list with all even numbers from 0 to 99, that are not divisible by 4."
   ]
  },
  {
   "cell_type": "code",
   "execution_count": null,
   "id": "fbd028bf-a3e3-4625-ad16-f1192921ee47",
   "metadata": {},
   "outputs": [],
   "source": [
    "# A possible implementation would be:\n",
    "ld = []\n",
    "for i in range(100):\n",
    "    if i % 2 == 0 and i % 4 != 0:\n",
    "        ld.append(i)\n",
    "        print(ld)"
   ]
  },
  {
   "cell_type": "code",
   "execution_count": null,
   "id": "4c2ab244-2bb1-4967-a175-954c18d28aae",
   "metadata": {},
   "outputs": [],
   "source": [
    "# List comprehensions are a way to concisely create lists.\n",
    "ld = [i for i in range(100) if i % 2 == 0 and i % 4 != 0]\n",
    "print(ld)"
   ]
  },
  {
   "cell_type": "markdown",
   "id": "d932d14b-3e16-4f53-be09-8c66894df547",
   "metadata": {},
   "source": [
    "<h2 style=\"color:orange;\">Exercise with loops and lists:</h2>"
   ]
  },
  {
   "cell_type": "markdown",
   "id": "442cc416-28e2-4728-8fa1-c79395b92a9f",
   "metadata": {},
   "source": [
    "### POLITICS AND INVESTMENTS\n",
    "- A country will have elections. There are 8 parties.\n",
    "- The winning party will govern for 8 years.\n",
    "- The party's policies will influence ROI over some type of investments.\n",
    "- Each party has a base ROI (float).\n",
    "- For each party, do a simulation for the volution of an investment of 1000€ over 8 years.\n",
    "- Print the party with the highest ROI in the 8th year, along with the full evolution for that party.\n",
    "### TIPS\n",
    "- The value in each year (including the initial value)\n",
    "must be stored.\n",
    "    - How will you store this data?\n",
    "    - A list for each party?\n",
    "    - A list for each year? Somethine else?\n",
    "- You need to iterate over the years for each party, or vice versa. That's a loop inside a loop.\n",
    "- You need to keep track of the investment for each party.\n",
    "### POLITICS AND INVESTMENTS II\n",
    "- Each party may make the ROI more or less volatile.\n",
    "- The volatility is given by a list of 8 floats.\n",
    "- The volatility is the standard deviation of the ROI.\n",
    "- For each year, the ROI is a random number with a normal distribution with the mean given by the ROI of the previous year and the standard deviation given by the volatility.\n",
    "- Recompute investment for each party."
   ]
  },
  {
   "cell_type": "code",
   "execution_count": null,
   "id": "87f0556f-e152-4707-b733-ed6fc6daebb9",
   "metadata": {},
   "outputs": [],
   "source": [
    "parties = [\"PS\", \"PSD\", \"BE\", \"PCP\", \"L\", \"PAN\", \"IL\", \"CH\"]\n",
    "rois = [0.02, 0.03, 0.005, 0.0005, 0.02, 0.01, 0.05, 0.1]\n",
    "investment = 1000\n",
    "\n",
    "sims = [[investment] for party in parties ]\n",
    "\n",
    "for year in range(8):\n",
    "    for i, party in enumerate(parties):\n",
    "        party_roi = rois[i]\n",
    "        new_value = sims[i][-1] * (1 + party_roi)\n",
    "        sims[i].append(new_value)\n",
    "\n",
    "sims"
   ]
  },
  {
   "cell_type": "code",
   "execution_count": null,
   "id": "83bb3750-5ff7-4e66-bc11-77684992b6ca",
   "metadata": {},
   "outputs": [],
   "source": [
    "year8 = [sim[-1] for sim in sims]\n",
    "year8"
   ]
  },
  {
   "cell_type": "code",
   "execution_count": null,
   "id": "bd6af1d0-ce47-44bd-86fa-92d777a47a11",
   "metadata": {},
   "outputs": [],
   "source": [
    "max_invest = max(year8)\n",
    "max_invest"
   ]
  },
  {
   "cell_type": "code",
   "execution_count": null,
   "id": "898f83d4-9db0-4ce5-a898-c4f261b401fc",
   "metadata": {},
   "outputs": [],
   "source": [
    "max_invest_ind = year8.index(max_invest)\n",
    "max_invest_ind"
   ]
  },
  {
   "cell_type": "code",
   "execution_count": null,
   "id": "03e3779e-207a-4142-a138-e35ba803663f",
   "metadata": {},
   "outputs": [],
   "source": [
    "parties[max_invest_ind]"
   ]
  },
  {
   "cell_type": "markdown",
   "id": "c5f421e5-8762-466e-acd6-6ca2680698cd",
   "metadata": {},
   "source": [
    "### TIPS\n",
    "- Compute mean, standard deviation and percentiles with numpy."
   ]
  },
  {
   "cell_type": "code",
   "execution_count": null,
   "id": "c4bb1d2e-1be3-4a1f-8975-910daad9195f",
   "metadata": {},
   "outputs": [],
   "source": [
    "import numpy as np\n",
    "l = [1,2,3,4,5]\n",
    "np.mean(l) # -> mean"
   ]
  },
  {
   "cell_type": "code",
   "execution_count": null,
   "id": "8a6ea89f-75de-428b-b499-c4065e551dcb",
   "metadata": {},
   "outputs": [],
   "source": [
    "np.std(l) # -> standard deviation"
   ]
  },
  {
   "cell_type": "code",
   "execution_count": null,
   "id": "c47f0f65-2356-4d6f-9c64-c36dec910190",
   "metadata": {},
   "outputs": [],
   "source": [
    "np.percentile(l, 25) # -> 25% percentile"
   ]
  },
  {
   "cell_type": "markdown",
   "id": "61a7d37e-7dc7-4f6b-8f75-2e60afbcb2b2",
   "metadata": {},
   "source": [
    "### Dictionaries"
   ]
  },
  {
   "cell_type": "markdown",
   "id": "41a8835c-6f4d-4017-94fe-7dcbef415b68",
   "metadata": {},
   "source": [
    "- A dictionary (dict) is like a key/value database.\n",
    "- We can store any value we want and connect it ti a key, which we will use to retrieve it."
   ]
  },
  {
   "cell_type": "code",
   "execution_count": null,
   "id": "9b21d5d8-8c18-467c-ada8-3293a505c9b0",
   "metadata": {},
   "outputs": [],
   "source": [
    "authors = {} # empty dict\n",
    "authors = dict() # empty dict\n",
    "authors = {\"Saramago\": 87}\n",
    "country_codes = {351: \"Portugal\"}\n",
    "# The types of both keys and values can be anything."
   ]
  },
  {
   "cell_type": "code",
   "execution_count": null,
   "id": "b8bef500-2367-4d3d-8190-87aee030b50d",
   "metadata": {},
   "outputs": [],
   "source": [
    "# We can initialize a dict with many values.\n",
    "authors = {\n",
    "\"Saramago\": 87,\n",
    "\"Pessoa\": 47,\n",
    "\"Camões\": 56\n",
    "}"
   ]
  },
  {
   "cell_type": "code",
   "execution_count": null,
   "id": "2ea2efd3-0355-4a4e-bd96-67def5b8070e",
   "metadata": {},
   "outputs": [],
   "source": [
    "# We can initialize a dict from a list of 2 element tuples.\n",
    "authors_lst = [(\"Saramago\", 87), (\"Pessoa\", 47), (\"Camões\", 56)]\n",
    "authors = dict(authors_lst)"
   ]
  },
  {
   "cell_type": "code",
   "execution_count": null,
   "id": "92d42a01-4f45-4035-8120-a7c4d95cda44",
   "metadata": {},
   "outputs": [],
   "source": [
    "# Actually, we can initialize it from an interable, so we could have done something like this\n",
    "names = [\"Saramago\", \"Pessoa\", \"Camões\"]\n",
    "ages = [87, 47, 56]\n",
    "authors = dict(zip(names, ages))"
   ]
  },
  {
   "cell_type": "code",
   "execution_count": null,
   "id": "9a5911af-c322-4ea8-a29e-29a32ff1fdce",
   "metadata": {},
   "outputs": [],
   "source": [
    "# We can have nested dicts too:\n",
    "authors = {\n",
    "\"Saramago\": {\"died_at\": 87, \"first_name\": \"José\"},\n",
    "\"Pessoa\": {\"died_at\": 47, \"first_name\": \"Fernando\"},\n",
    "\"Camões\": {\"died_at\": 56, \"first_name\": \"Luís\"},\n",
    "}"
   ]
  },
  {
   "cell_type": "markdown",
   "id": "72262b13-289d-483f-b578-da924e3411fd",
   "metadata": {},
   "source": [
    "- GETTING A VALUE"
   ]
  },
  {
   "cell_type": "code",
   "execution_count": null,
   "id": "31a3b5a2-5372-4d99-95a5-57ec120cb111",
   "metadata": {},
   "outputs": [],
   "source": [
    "authors[\"Saramago\"]"
   ]
  },
  {
   "cell_type": "code",
   "execution_count": null,
   "id": "5cbcf1ba-4c36-4dd6-9244-28df32d22a5e",
   "metadata": {},
   "outputs": [],
   "source": [
    "authors.get(\"Saramago\")"
   ]
  },
  {
   "cell_type": "code",
   "execution_count": null,
   "id": "d6777450-041b-4a97-befe-11af04c49b45",
   "metadata": {},
   "outputs": [],
   "source": [
    "authors[\"Asimov\"] # KeyError: 'Asimov'"
   ]
  },
  {
   "cell_type": "code",
   "execution_count": null,
   "id": "046c5854-5b65-4b61-b785-3e3f9b0b1c2c",
   "metadata": {},
   "outputs": [],
   "source": [
    "authors.get(\"Asimov\") # -> None"
   ]
  },
  {
   "cell_type": "markdown",
   "id": "0fbd97a9-f51a-4a1d-ac95-473a5859a5ab",
   "metadata": {},
   "source": [
    "- INSERTING A VALUE"
   ]
  },
  {
   "cell_type": "code",
   "execution_count": null,
   "id": "b26b7037-8c4e-4bdd-9f4a-f8a3876074ea",
   "metadata": {},
   "outputs": [],
   "source": [
    "authors[\"Vieira\"] = 89\n",
    "authors[\"Queirós\"] = 54\n",
    "print(authors)"
   ]
  },
  {
   "cell_type": "markdown",
   "id": "0425f4b3-223a-48a1-9837-423388056ee6",
   "metadata": {},
   "source": [
    "- REMOVING A VALUE"
   ]
  },
  {
   "cell_type": "code",
   "execution_count": null,
   "id": "3a447a58-a99c-4500-aa1f-9962bc94c55f",
   "metadata": {},
   "outputs": [],
   "source": [
    "authors.pop(\"Vieira\") # removes key \"Vieira\" and returns its valu\n",
    "print(authors)"
   ]
  },
  {
   "cell_type": "markdown",
   "id": "95ece6a2-d8dc-4025-adee-fd5c09d8ab16",
   "metadata": {},
   "source": [
    "- USEFUL METHODS"
   ]
  },
  {
   "cell_type": "code",
   "execution_count": null,
   "id": "5864fdcb-f41e-43d3-a22b-1fe5146ca64c",
   "metadata": {},
   "outputs": [],
   "source": [
    "list(authors) # returns list of keys\n",
    "list(authors.keys()) # same thing\n",
    "list(authors.values()) # list of dict's values\n",
    "list(authors.items()) # list of (key, value) tuples"
   ]
  },
  {
   "cell_type": "markdown",
   "id": "77ad3a3d-bf33-4a90-be10-3b963bb6a4ad",
   "metadata": {},
   "source": [
    "### DICTS AND LOOPS"
   ]
  },
  {
   "cell_type": "code",
   "execution_count": null,
   "id": "3abbf112-32b6-488b-9e68-727b11cc91db",
   "metadata": {},
   "outputs": [],
   "source": [
    "# Print the age at which author died:\n",
    "for k in authors:\n",
    "    print(f\"{k} died at age {authors[k]}\")"
   ]
  },
  {
   "cell_type": "code",
   "execution_count": null,
   "id": "1b4eea41-42ed-442a-b4e1-24cbbe811043",
   "metadata": {},
   "outputs": [],
   "source": [
    "for k in authors:\n",
    "    print(f\"{k} died at age {authors[k]}\")"
   ]
  },
  {
   "cell_type": "code",
   "execution_count": null,
   "id": "2cc22aaa-227c-47ae-9f5a-141c54e36686",
   "metadata": {},
   "outputs": [],
   "source": [
    "for k,v in authors.items():\n",
    "    print(f\"{k} died at age {v}\")"
   ]
  },
  {
   "cell_type": "code",
   "execution_count": null,
   "id": "73438527-27c7-4dfc-9833-3370215b5edf",
   "metadata": {},
   "outputs": [],
   "source": [
    "for i, (k,v) in enumerate(authors.items()):\n",
    "    print(f\"author #{i}: {k} died at age {v}\")"
   ]
  },
  {
   "cell_type": "markdown",
   "id": "cc440619-bd8d-49c5-8f1d-40b728670e0e",
   "metadata": {},
   "source": [
    "### Dict Comprehensions"
   ]
  },
  {
   "cell_type": "markdown",
   "id": "259031c4-daea-44db-86c6-81a375cd6799",
   "metadata": {},
   "source": [
    "- Create a dictionaty with the authors that have the letter 'e' on their name."
   ]
  },
  {
   "cell_type": "code",
   "execution_count": null,
   "id": "78da2c5a-2990-4e1f-91d9-70d601e0795d",
   "metadata": {},
   "outputs": [],
   "source": [
    "authors_e = {name: age \\\n",
    "             for name, age in zip(names, ages) \\\n",
    "             if \"e\" in name}\n",
    "# \\ allows breaking a long instruction into several lines"
   ]
  },
  {
   "cell_type": "markdown",
   "id": "bfd7ce00",
   "metadata": {},
   "source": [
    "<h2 style=\"color:orange;\">FUNCTIONS</h2>"
   ]
  },
  {
   "cell_type": "markdown",
   "id": "fcdd7c4d-a733-4b62-bafd-0faffa1253ba",
   "metadata": {},
   "source": [
    "- How to reuse the same logic for different things?\n",
    "- We can think of a function as a black box that receives inputs and gives outputs.\n",
    "- What function we see before?\n",
    "```python\n",
    "    - enumerate(), zip(), range(), int(), float(), str()\n",
    "```\n",
    "- We define a function with the def keyword\n",
    "- Followed by the name of the function\n",
    "- Inside the () we write the names os the inputs the function should receive."
   ]
  },
  {
   "cell_type": "code",
   "execution_count": null,
   "id": "d7665d3b-7b08-4d8e-bbe2-697e8784500d",
   "metadata": {},
   "outputs": [],
   "source": [
    "def sum_2(a):\n",
    "    b = a + 2\n",
    "    return b\n",
    "print(sum_2(6))"
   ]
  },
  {
   "cell_type": "markdown",
   "id": "015b7b91-ad45-4423-b854-9488092ed08e",
   "metadata": {},
   "source": [
    "- The function exists when it reaches the end of the instructions or when the instruction return is used."
   ]
  },
  {
   "cell_type": "code",
   "execution_count": null,
   "id": "0ac778ce-6ad9-489e-943f-c57b0b0f5386",
   "metadata": {},
   "outputs": [],
   "source": [
    "input_value = int(input(\"Enter a number: \"))\n",
    "\n",
    "def sum_2(a):\n",
    "    b = a + 2\n",
    "    return a, b\n",
    "# Return can receive multiple values\n",
    "# Which means the function will output multiple values\n",
    "# When we return multiple values like this a, b, we're returning a tuple\n",
    "# To use the function, you need to call it with an argument\n",
    "print(sum_2(input_value))"
   ]
  },
  {
   "cell_type": "markdown",
   "id": "f6ea22ba-8684-4a81-8948-7b3e1b9c9e52",
   "metadata": {},
   "source": [
    "### VARIABLE SCOPE"
   ]
  },
  {
   "cell_type": "code",
   "execution_count": null,
   "id": "724016d0-e945-4724-a972-8b108f759067",
   "metadata": {},
   "outputs": [],
   "source": [
    "def sum_2(a):\n",
    "    b = a + 2\n",
    "    print(x) # -> 3\n",
    "    return b\n",
    "print(sum_2(x)) # -> 5\n",
    "print(x) # -> 3\n",
    "# print(a) # -> NameError: name 'a' is not defined"
   ]
  },
  {
   "cell_type": "markdown",
   "id": "3214e3f9-0bd9-491c-bb86-9f41632e5eab",
   "metadata": {},
   "source": [
    "- a and b exist only inside function sum_2.\n",
    "- But x exists outside the function too.\n",
    "- x is unchandeg by calling sum_2.\n",
    "- a and b are said to be local variables, within the SCOPE OF THE FUNCTION.\n",
    "- x is a GLOBAL VARIABLE, because it exists outside any scope within our program."
   ]
  },
  {
   "cell_type": "code",
   "execution_count": null,
   "id": "6338ab44-670c-4950-b13d-f86c1910a971",
   "metadata": {},
   "outputs": [],
   "source": [
    "x = 3\n",
    "def sum_2(a):\n",
    "    b = a + 2\n",
    "    x = 4\n",
    "    print(x) # -> 4\n",
    "    return b\n",
    "\n",
    "print(sum_2(x)) # -> 5\n",
    "print(x) # -> 3"
   ]
  },
  {
   "cell_type": "markdown",
   "id": "01094e88-5eb5-4a47-b4d3-78592528f9f4",
   "metadata": {},
   "source": [
    "- Now we-re writing to x inside the function.\n",
    "- But x=4 inside the function creates a new LOCAL VARIABLE x with the same name as the GLOBAL VARIABLE x.\n",
    "- Every use of x inside the function expects a variable named x within the SCOPE OF THAT FUNCTION.\n"
   ]
  },
  {
   "cell_type": "code",
   "execution_count": null,
   "id": "3bcb390c-d658-4a72-b117-dc595089bcd8",
   "metadata": {},
   "outputs": [],
   "source": [
    "x = 3\n",
    "def sum_2(a):\n",
    "    global x\n",
    "    b = a + 2\n",
    "    x = 4\n",
    "    print(x) # -> 4\n",
    "    return b\n",
    "\n",
    "print(sum_2(x)) # -> 5\n",
    "print(x) # -> 4"
   ]
  },
  {
   "cell_type": "markdown",
   "id": "fbea2041-9e71-4764-8c41-c668fe330e0d",
   "metadata": {},
   "source": [
    "- If we wanted to change (and not only read) the global variable, we need to declare it.\n",
    "- All global variables are stored inside a dictionary that can be accessed bt calling globals()."
   ]
  },
  {
   "cell_type": "raw",
   "id": "0c497317-4336-417b-a19a-999d16c8aa25",
   "metadata": {},
   "source": [
    "x = 3\n",
    "def sum_2(a):\n",
    "    b = a + 2\n",
    "    print(x) # now print is before the assignment\n",
    "    x = 4\n",
    "    return b\n",
    "\n",
    "print(sum_2(x)) # -> 5"
   ]
  },
  {
   "cell_type": "raw",
   "id": "b4059cb6-2a25-47d5-830c-cf1b62fb2596",
   "metadata": {},
   "source": [
    "4 b = a + 2\n",
    "----> 5 print(x) # now print is before the assignment\n",
    "6 x = 4\n",
    "7 return b\n",
    "UnboundLocalError: local variable 'x' referenced before assignment"
   ]
  },
  {
   "cell_type": "markdown",
   "id": "10f1424b-6fd0-4d39-8f47-dff017f47a93",
   "metadata": {},
   "source": [
    "### FUNCTIONS: FIRST-CLASS CITIZENS\n",
    "- In Python, functions are considered first-class citizens, which means they can be treated like any other variable. You can assign functions to variables, pass them as arguments to other functions, return them from functions, and store them in data structures like lists and dictionaries."
   ]
  },
  {
   "cell_type": "code",
   "execution_count": null,
   "id": "e0c4d8fd-c99d-46da-9c2b-185834d1a121",
   "metadata": {},
   "outputs": [],
   "source": [
    "def sum_3(a):\n",
    "    b = a + 3\n",
    "    return b\n",
    "\n",
    "a_minha_funcao = sum_3\n",
    "type(a_minha_funcao)"
   ]
  },
  {
   "cell_type": "code",
   "execution_count": null,
   "id": "60ad1b78-ae77-453d-9250-646daf2b8146",
   "metadata": {},
   "outputs": [],
   "source": [
    "a_minha_funcao(3)"
   ]
  },
  {
   "cell_type": "code",
   "execution_count": null,
   "id": "8f09e441-bce4-49fb-90a1-278d38fa88e2",
   "metadata": {},
   "outputs": [],
   "source": [
    "lista = [sum_3, a_minha_funcao]\n",
    "lista[0](2)"
   ]
  },
  {
   "cell_type": "markdown",
   "id": "4ffae018-0e44-4786-ad68-be7e197436e4",
   "metadata": {},
   "source": [
    "- We may also pass a function as an argument to another function."
   ]
  },
  {
   "cell_type": "code",
   "execution_count": null,
   "id": "a2ceca6f-2740-4b13-b02c-b396d108d8d8",
   "metadata": {},
   "outputs": [],
   "source": [
    "def apply_function(func, arg):\n",
    "    y = func(arg)\n",
    "    return y\n",
    "    \n",
    "apply_function(sum_2, 2) # -> 4"
   ]
  },
  {
   "cell_type": "code",
   "execution_count": null,
   "id": "80972d88-3833-4f1d-a0ad-e329a0ecf9b4",
   "metadata": {},
   "outputs": [],
   "source": [
    "def logged_function(func, arg):\n",
    "    print(\"function as called with arg:\", arg)\n",
    "    y = func(arg)\n",
    "    return y\n",
    "\n",
    "def create_logged_function(func):\n",
    "    def new_func(arg):\n",
    "        print(\"function as called with arg:\", arg)\n",
    "        y = func(arg)\n",
    "        return y\n",
    "    return new_func\n",
    "    \n",
    "logged_function(sum_3, 2)"
   ]
  },
  {
   "cell_type": "markdown",
   "id": "94672f77-e5cd-4a00-bade-081c084473e1",
   "metadata": {},
   "source": [
    "Functions that will give functions"
   ]
  },
  {
   "cell_type": "code",
   "execution_count": null,
   "id": "0cb12644-fe84-4c13-8db3-6d26afebba49",
   "metadata": {},
   "outputs": [],
   "source": [
    "logged_sum_3 = create_logged_function(sum_3)\n",
    "logged_sum_3(2)"
   ]
  },
  {
   "cell_type": "markdown",
   "id": "0b9d2a78-0565-4576-bb62-b4f7c874bcc2",
   "metadata": {},
   "source": [
    "LAMBDA"
   ]
  },
  {
   "cell_type": "markdown",
   "id": "fe5aaaba-099d-49e5-b040-e60a11de385f",
   "metadata": {},
   "source": [
    "- There is a shortcut for defining short and cimple functions:"
   ]
  },
  {
   "cell_type": "code",
   "execution_count": null,
   "id": "78d1b0a6-7d65-49ac-bf4e-2355e06c2e4d",
   "metadata": {},
   "outputs": [],
   "source": [
    "f = lambda a: a + 2\n",
    "f(2) # -> 4"
   ]
  },
  {
   "cell_type": "code",
   "execution_count": null,
   "id": "4e8207e8-2cee-4ddb-a168-963008d784ec",
   "metadata": {},
   "outputs": [],
   "source": [
    "g = lambda a,b: a+b**2\n",
    "g(2,3) # -> 11"
   ]
  },
  {
   "cell_type": "markdown",
   "id": "f6f6e0bf-223f-4a4c-b274-0c640c6cbc5a",
   "metadata": {},
   "source": [
    "- We write lambda follower by the arguments we want to receive.\n",
    "- After the :, we write the expression that will be return (no need to write return).\n",
    "- Why is this useful? Because we can pass custom operations to other functions and apply them elsewhere.\n",
    "- We can also import other functions and apply them in our codebase.\n",
    "- Let's look at 2 particularly useful example of using functions in this way."
   ]
  },
  {
   "cell_type": "code",
   "execution_count": null,
   "id": "83b02aae-1151-43bd-a551-c502bbaeafa5",
   "metadata": {},
   "outputs": [],
   "source": [
    "to_lower = lambda s: s.lower()\n",
    "to_lower(\"Hello This Is A tEst\")"
   ]
  },
  {
   "cell_type": "markdown",
   "id": "b10c748a-eb56-4244-ba2c-0cee0f1d8b87",
   "metadata": {},
   "source": [
    "<h2 style=\"color:orange;\">MAP</h2>"
   ]
  },
  {
   "cell_type": "markdown",
   "id": "dc0555d7-135c-4ef2-a44c-25efa62387d7",
   "metadata": {},
   "source": [
    "- Let's suppose we have a list of prices:"
   ]
  },
  {
   "cell_type": "code",
   "execution_count": null,
   "id": "4de613fd-7693-454d-9b14-2661c4b8c2a4",
   "metadata": {},
   "outputs": [],
   "source": [
    "prices = [1.92, 46.4, 30.56, 11.63, 8.35,\n",
    "          6.32, 28.21, 8.21, 12.86, 6.95]"
   ]
  },
  {
   "cell_type": "markdown",
   "id": "37e7a0a6-5328-4f88-91e7-4ab04932b868",
   "metadata": {},
   "source": [
    "- These prices will suffer an update of 4.5%. How can we update them?"
   ]
  },
  {
   "cell_type": "markdown",
   "id": "7150f9a8-b711-4a5a-8089-28bca70ffe8d",
   "metadata": {},
   "source": [
    "- With what we've learned so far, we could write a loop."
   ]
  },
  {
   "cell_type": "code",
   "execution_count": null,
   "id": "68f227e0-9cb1-426d-84db-1b9806f17801",
   "metadata": {},
   "outputs": [],
   "source": [
    "new_prices = []\n",
    "percent = 4.5\n",
    "for p in prices:\n",
    "    new_prices.append(p * (1 + percent/100))\n",
    "print(new_prices)"
   ]
  },
  {
   "cell_type": "markdown",
   "id": "85f37c1d-637b-42c9-b40a-d30cdffefe0f",
   "metadata": {},
   "source": [
    "- We can also use map, which applies a function to all elements of an interable (e.g. list)."
   ]
  },
  {
   "cell_type": "code",
   "execution_count": null,
   "id": "62e8e802-601b-4532-a005-030e099c0f67",
   "metadata": {},
   "outputs": [],
   "source": [
    "percent = 4.5\n",
    "def update(price):\n",
    "    return price * (1 + percent/100)\n",
    "    \n",
    "new_prices = list(map(update, prices))\n",
    "print(new_prices)"
   ]
  },
  {
   "cell_type": "markdown",
   "id": "73ca79b3-1813-49a8-9afb-ee45370c0004",
   "metadata": {},
   "source": [
    "- Or use lambda..."
   ]
  },
  {
   "cell_type": "code",
   "execution_count": null,
   "id": "4cd6092c-7fa4-45be-89f6-3ece65753e19",
   "metadata": {},
   "outputs": [],
   "source": [
    "percent = 4.5\n",
    "new_prices = list(map(lambda p: p * (1 + percent / 100), prices))\n",
    "print(new_prices)"
   ]
  },
  {
   "cell_type": "code",
   "execution_count": null,
   "id": "9db5f247-95d2-4ab7-85ee-2ce0fcd3ed28",
   "metadata": {},
   "outputs": [],
   "source": [
    "rounded_prices = [round(price, 2) for price in new_prices]\n",
    "print(rounded_prices)"
   ]
  },
  {
   "cell_type": "markdown",
   "id": "e1a9f315-fe85-47a0-b872-b3c630ab6595",
   "metadata": {},
   "source": [
    "- Keep your lambdas short. !!!\n",
    "- If you have complex logic, transfer it to a \"normal\" function where the logic will be clearer."
   ]
  },
  {
   "cell_type": "markdown",
   "id": "0b081b4a-54ee-4e5d-bd05-c28dbaf989a5",
   "metadata": {},
   "source": [
    "- Why are we converting the result of a map to a list?\n",
    "- map actually returns an iterable, not a list (like zip and enumerate)"
   ]
  },
  {
   "cell_type": "raw",
   "id": "7c005cdb-1ca6-4eab-9b3a-505f80abc75e",
   "metadata": {},
   "source": [
    "In [11]: map(lambda p: p * (1 + percent / 100), prices)\n",
    "Out[11]: <map at 0x15a9b31cb80>"
   ]
  },
  {
   "cell_type": "markdown",
   "id": "c279de18-6ee6-4639-9194-50f1cd795cd5",
   "metadata": {},
   "source": [
    "- And it can also receive any iterable (tuple, dict, ...), not just a list."
   ]
  },
  {
   "cell_type": "raw",
   "id": "ba1e9c8f-6def-4a82-906c-ab896c68e538",
   "metadata": {},
   "source": [
    "authors = dict(zip(names, ages))\n",
    "output = list(map(lambda n, a: f\"Author {n} died at age {a}.\",\n",
    "authors.items()))\n",
    "\n",
    "# equivalent to\n",
    "output = [f\"Author {n} died at age {a}.\" for n,a in authors.items()]"
   ]
  },
  {
   "cell_type": "markdown",
   "id": "eb392e7e-d64a-4999-b4c6-c252f2880120",
   "metadata": {},
   "source": [
    "- Are you really going to use this?\n",
    "- Often people don't directly use Python's default mao, but map is often implemented in other data structures, such as..."
   ]
  },
  {
   "cell_type": "raw",
   "id": "bdf8044b-dd5f-4def-9c2b-cafb304ef88b",
   "metadata": {},
   "source": [
    "df = pandas.read_excel(\"prices.xlsx\")\n",
    "\n",
    "In [45]: df.head()\n",
    "Out[45]:\n",
    "prices category\n",
    "0 22.25 vegetables\n",
    "1 10.22 vegetables\n",
    "2 2.19 vegetables\n",
    "3 14.63 pets\n",
    "4 31.21 fruit\n",
    "\n",
    "In [46]: df.shape\n",
    "Out[46]: (50, 2)"
   ]
  },
  {
   "cell_type": "raw",
   "id": "3135e476-421e-4f3d-ae13-bb8bbdd8a738",
   "metadata": {},
   "source": [
    "df[\"new_prices\"] = df[\"prices\"].map(lambda p: p * 1.045)\n",
    "\n",
    "In [51]: df.head()\n",
    "Out[51]:\n",
    "prices category new_prices\n",
    "0 22.25 vegetables 23.25125\n",
    "1 10.22 vegetables 10.67990\n",
    "2 2.19 vegetables 2.28855\n",
    "3 14.63 pets 15.28835\n",
    "4 31.21 fruit 32.61445\n",
    "\n",
    "In [52]: df.shape\n",
    "shape"
   ]
  },
  {
   "cell_type": "markdown",
   "id": "2fc10066",
   "metadata": {},
   "source": [
    "<h2 style=\"color:orange;\">FILTER</h2>"
   ]
  },
  {
   "cell_type": "markdown",
   "id": "59585d5a-7f17-4fe5-8b68-1bec296f06fd",
   "metadata": {},
   "source": [
    "- Filter works like map but instead of applying a function ti every value, we're picking which values we want to keep.\n",
    "- Because we're choosing which values to keep, the function that we give to filter must return a bool (True or False)."
   ]
  },
  {
   "cell_type": "code",
   "execution_count": null,
   "id": "74e7d119-97a3-4e34-a2c9-3c3b32afabef",
   "metadata": {},
   "outputs": [],
   "source": [
    "prices = [9.56, 23.82, 17.39, 5.11, 8.28]\n",
    "categories = ['fruit', 'hygiene', 'fruit', 'vegetables', 'vegetables']\n",
    "              \n",
    "vegetables_prices = [p for p,c in zip(prices, categories) \\\n",
    "              if c == 'vegetables']\n",
    "\n",
    "print(vegetables_prices)"
   ]
  },
  {
   "cell_type": "code",
   "execution_count": null,
   "id": "4faab615-564a-46af-8926-46a09263d8f3",
   "metadata": {},
   "outputs": [],
   "source": [
    "vegetables_prices = list(filter(lambda pc: pc[1] == 'vegetables', zip(prices, categories)))\n",
    "print(vegetables_prices)"
   ]
  },
  {
   "cell_type": "markdown",
   "id": "41114eba-d316-4bd2-b896-8217c469ea61",
   "metadata": {},
   "source": [
    "- Will you use this?\n",
    "- Probably not! In Pandas, we actually filter in different ways, like:"
   ]
  },
  {
   "cell_type": "raw",
   "id": "49331c3b-1f4a-4f28-a63c-19cde0d19dda",
   "metadata": {},
   "source": [
    "df = pandas.read_excel(\"prices.xlsx\")\n",
    "vegetables = df[df[\"category\"] == \"vegetable\"]"
   ]
  },
  {
   "cell_type": "raw",
   "id": "4aab5593-fd85-4f93-b5b9-1ed92ae5509c",
   "metadata": {},
   "source": [
    "In [61]: vegetables.head()\n",
    "Out[61]:\n",
    "prices category new_prices\n",
    "0 22.25 vegetables 23.25125\n",
    "1 10.22 vegetables 10.67990\n",
    "2 2.19 vegetables 2.28855\n",
    "13 1.59 vegetables 1.66155\n",
    "22 14.17 vegetables 14.80765"
   ]
  },
  {
   "cell_type": "raw",
   "id": "a5a86b76-f457-48e4-bea2-1754efd23d02",
   "metadata": {},
   "source": [
    "In [62]: vegetables.shape\n",
    "Out[62]: (13, 3)"
   ]
  },
  {
   "cell_type": "raw",
   "id": "23c325da-04da-4978-8e23-b66961f5a98f",
   "metadata": {},
   "source": [
    "In [46]: df.shape\n",
    "Out[46]: (50, 2)"
   ]
  },
  {
   "cell_type": "markdown",
   "id": "5f263a28-62b6-43b1-941c-3a74ae56a742",
   "metadata": {},
   "source": [
    "- Why does that work?\n",
    "- When we compare the column \"category\" with the value \"vegetables\", we get another column of the same size indicating where that comparison was True or False."
   ]
  },
  {
   "cell_type": "raw",
   "id": "e05ed38f-ec9d-4119-ae66-5c0c8ebde9e7",
   "metadata": {},
   "source": [
    "In [64]: df[\"category\"] == \"vegetables\"\n",
    "Out[64]:\n",
    "0 True\n",
    "1 True\n",
    "2 True\n",
    "3 False\n",
    "4 False\n",
    "5 False"
   ]
  },
  {
   "cell_type": "markdown",
   "id": "05c2443f-7568-4cf4-b76d-55c666a92387",
   "metadata": {},
   "source": [
    "- This column is the mask that will select the rows of the\n",
    "original dataframe where the comparison is True."
   ]
  },
  {
   "cell_type": "markdown",
   "id": "da2b539f",
   "metadata": {
    "vscode": {
     "languageId": "plaintext"
    }
   },
   "source": [
    "<h2 style=\"color:orange;\">MODULES - EXTERNAL CODE</h2>"
   ]
  },
  {
   "cell_type": "markdown",
   "id": "2945a2f6-086a-45a2-920b-832406f77247",
   "metadata": {},
   "source": [
    "- In Python, we can create our own modules to store\n",
    "code and import that code to other programs\n",
    "- Why do this? Reusability and modularity.\n",
    "- Python (.py) files in the same folder as our program can be directly imported.\n",
    "- We can organize our modules in packages (don't forget those init files)."
   ]
  },
  {
   "cell_type": "markdown",
   "id": "a213b7a7-4264-484c-b680-c78bd50e9077",
   "metadata": {
    "vscode": {
     "languageId": "raw"
    }
   },
   "source": [
    "```python\n",
    "retailxy/\n",
    "|- __init__.py\n",
    "|- products-py\n",
    "|\n",
    "|- marketing/\n",
    "|     |- __init__.py\n",
    "|     |- discounts.py\n",
    "|     |- promotions.py\n",
    "```"
   ]
  },
  {
   "cell_type": "raw",
   "id": "e48f9f0e-c213-49dc-9e51-e30faaccb149",
   "metadata": {},
   "source": [
    "import retailxy.marketing as mark\n",
    "from products import * # all"
   ]
  },
  {
   "cell_type": "code",
   "execution_count": null,
   "id": "f5c38ebd-51b8-4586-85b7-2fa7482193a4",
   "metadata": {},
   "outputs": [],
   "source": [
    "# Importing the sim module (files are in the same project folder)\n",
    "import sim\n",
    "\n",
    "sim.investment_simulator(10, 1000, 0.02)"
   ]
  },
  {
   "cell_type": "code",
   "execution_count": null,
   "id": "93ae9422-5970-449b-af2e-b2f5942f4761",
   "metadata": {},
   "outputs": [],
   "source": [
    "# Importing the sim module from the ml package (folder ml)\n",
    "import ml.sim as sim\n",
    "\n",
    "sim.investment_simulator(10, 1000, 0.03)"
   ]
  },
  {
   "cell_type": "code",
   "execution_count": null,
   "id": "9ba3987e-bd3c-4217-9c9d-6b7b352481b7",
   "metadata": {},
   "outputs": [],
   "source": [
    "# Importing the sim module from the ml.predictions subpackage (folder predictions inside ml)\n",
    "import ml.predictions.sim as sim\n",
    "import ml.config as config\n",
    "\n",
    "sim.investment_simulator(10, 1000, 0.05)"
   ]
  },
  {
   "cell_type": "code",
   "execution_count": null,
   "id": "7ad1e1e7-7a37-4899-a8bc-d41437478107",
   "metadata": {},
   "outputs": [],
   "source": [
    "# Importing the sim module from the ml.predictions subpackage (folder predictions inside ml)\n",
    "import ml.predictions.sim as sim\n",
    "import ml.config as config\n",
    "\n",
    "investment = 1000\n",
    "\n",
    "sims = []\n",
    "\n",
    "for i, party in enumerate(config.parties):\n",
    "    party_roi = config.rois[i]\n",
    "    party_sim = sim.investment_simulator(8, investment, party_roi)\n",
    "    sims.append(party_sim)\n",
    "\n",
    "year8 = [sim[-1] for sim in sims]\n",
    "year8\n",
    "\n",
    "max_invest = max(year8)\n",
    "max_invest\n",
    "\n",
    "max_invest_ind = year8.index(max_invest)\n",
    "max_invest_ind\n",
    "\n",
    "\n",
    "config.parties[max_invest_ind]"
   ]
  },
  {
   "cell_type": "code",
   "execution_count": null,
   "id": "42d0c22f-8d79-441d-b208-f0c66e299147",
   "metadata": {},
   "outputs": [],
   "source": [
    "# The __init__ function is my constructor, the initializer of this class.\n",
    "class NewClass:\n",
    "    def __init__(self, test):\n",
    "        print(test)"
   ]
  },
  {
   "cell_type": "code",
   "execution_count": null,
   "id": "edb18db5-0b44-4cd3-824d-30358bf44f48",
   "metadata": {},
   "outputs": [],
   "source": [
    "NewClass(\"isto é um teste\")"
   ]
  },
  {
   "cell_type": "markdown",
   "id": "c2544467-a144-455e-8777-0904b87fa584",
   "metadata": {},
   "source": [
    "# FILES\n",
    "- OPEN, CLOSE, WITH, READ, WRITE, PATHLIB"
   ]
  },
  {
   "cell_type": "markdown",
   "id": "c9a4807a-2d79-4074-809a-ae3fc66b9515",
   "metadata": {},
   "source": [
    "TEXT\n",
    "- open, read, write, close\n",
    "- modes r, w, a\n",
    "- context manager\n",
    "- pathlib, swiss army knife for files"
   ]
  },
  {
   "cell_type": "markdown",
   "id": "30e437ee-121b-4eed-9e97-033f86558283",
   "metadata": {},
   "source": [
    "OPEN"
   ]
  },
  {
   "cell_type": "markdown",
   "id": "5558a1a0-5eca-4b64-8b66-00b54f11c92a",
   "metadata": {},
   "source": [
    "There are 3 ways of opening a file:\n",
    "- \"r\" for reading only, the file must exist exist\n",
    "- \"w\" for writing, creates the file if it doesn't exist or overwrites, starts writing at the beginning\n",
    "- \"a\" same as \"w\", but starts writing at the end\n",
    "- If a mode is not spe􀀁cied when opening a file, the default is \"r\". That is why we got an error."
   ]
  },
  {
   "cell_type": "code",
   "execution_count": null,
   "id": "edbb8e0a-b394-4ca1-9d76-8821a7a05df5",
   "metadata": {},
   "outputs": [],
   "source": [
    "f = open(\"test_file.txt\") # open a file"
   ]
  },
  {
   "cell_type": "code",
   "execution_count": null,
   "id": "0bb8a98a-be93-4d20-9cdd-aea0912eb41d",
   "metadata": {},
   "outputs": [],
   "source": [
    "f = open(\"test_file.txt\", \"w\") # open a file in write mode\n",
    "f.write(\"line 1\\n\") # \\n write a newline sequence to the file\n",
    "f.write(\"line 2\\n\")\n",
    "f.close() # we must close the file for the changes to take effect"
   ]
  },
  {
   "cell_type": "raw",
   "id": "cf3546dc-d0f4-45d9-ad3d-23c7034afa00",
   "metadata": {},
   "source": [
    "line 1\n",
    "line 2"
   ]
  },
  {
   "cell_type": "markdown",
   "id": "5062f8a1-ced3-4c48-b163-8f6d723aa700",
   "metadata": {},
   "source": [
    "- We can add a \"+\" modi􀀁er to any mode, and it allows the modes to both read and write.\n",
    "- \"r+\" still doesn't create a file if it doesn't exist though.\n",
    "- It's easier to forget closing files, specially when there are many operations between opening and closing.\n",
    "- The recommended way of opening and closing files is to use a context manager.\n",
    "- When we use with, the 􀀁le is automatically closed when the block of instructions inside with is 􀀁nished."
   ]
  },
  {
   "cell_type": "code",
   "execution_count": null,
   "id": "a5cfd254-c0fa-4d16-81a2-a04da416a676",
   "metadata": {},
   "outputs": [
    {
     "name": "stdout",
     "output_type": "stream",
     "text": [
      "overwrites everything\n"
     ]
    }
   ],
   "source": [
    "# CONTEXT MANAGER\n",
    "with open(\"test_file.txt\", \"r\") as f:\n",
    "    data = f.read()\n",
    "print(data)"
   ]
  },
  {
   "cell_type": "markdown",
   "id": "393081ba-93ea-4a29-87b5-35aa47042c9c",
   "metadata": {},
   "source": [
    "BINARY"
   ]
  },
  {
   "cell_type": "markdown",
   "id": "9d49847c-a6ea-4882-82e0-a469acc5785c",
   "metadata": {},
   "source": [
    "- Binary 􀀁les store data in a format that is not human readably.\n",
    "- They're very useful to store numeric data because we can 􀀁t more numbers within the same memory space.\n",
    "- To use 􀀁les in binary mode, we simply add a \"b\" to the modes we've already seen so far.\n",
    "- They will also be useful to store trained models to be deployed or used by other people.\n",
    "- In Python, we can store almost any object in a binary format with the pickle module."
   ]
  },
  {
   "cell_type": "code",
   "execution_count": null,
   "id": "394597a2-313b-4fe9-a898-50fa5723ae2e",
   "metadata": {},
   "outputs": [],
   "source": [
    "with open(\"test.pkl\", \"rb\") as f:\n",
    "    data = f.read()\n",
    "print(data)"
   ]
  },
  {
   "cell_type": "code",
   "execution_count": null,
   "id": "a136d09b-c244-4cf0-b360-c26d8ac29639",
   "metadata": {},
   "outputs": [],
   "source": [
    "test_dict = {x: y for x, y in zip(range(5), range(100, 105))}\n",
    "print(test_dict)"
   ]
  },
  {
   "cell_type": "markdown",
   "id": "4ed62955-0fbf-4c4e-a53b-54e61c11ed21",
   "metadata": {},
   "source": [
    "STORE AN OBJECT WITH PICKLE"
   ]
  },
  {
   "cell_type": "code",
   "execution_count": null,
   "id": "8dd14ec8-274e-4886-9f52-8898d95fd56a",
   "metadata": {},
   "outputs": [],
   "source": [
    "import pickle\n",
    "with open(\"test.pkl\", \"wb\") as f:\n",
    "    pickle.dump(test_dict, f)"
   ]
  },
  {
   "cell_type": "markdown",
   "id": "afc1cb58-6072-40b7-ad65-c5e35ae763b5",
   "metadata": {},
   "source": [
    "LOAD AN OBJECT FROM A PICKLE FILE"
   ]
  },
  {
   "cell_type": "code",
   "execution_count": null,
   "id": "e9d340a5-08fe-4811-96e7-450b122f530d",
   "metadata": {},
   "outputs": [],
   "source": [
    "with open(\"test.pkl\", \"rb\") as f:\n",
    "    loaded_dict = pickle.load(f)\n",
    "print(loaded_dict)"
   ]
  },
  {
   "cell_type": "markdown",
   "id": "382e44f1-d423-45d0-9d97-7b7149143ad9",
   "metadata": {},
   "source": [
    "PATHLIB"
   ]
  },
  {
   "cell_type": "markdown",
   "id": "d7c2247b-f077-4c81-bc73-f2e16d9b9e74",
   "metadata": {},
   "source": [
    "- I recommend the use of the pathlib library anytime you need to deal with files.\n",
    "- It makes working with 􀀁les much easier, since there are things that change when our code executes in Windows, MacOS, Linux, etc.\n",
    "- By using pathlib, many of these differences are abstracted away.\n",
    "- We also have many utilities that make life easier."
   ]
  },
  {
   "cell_type": "markdown",
   "id": "2091be2c-511d-44c7-9363-4aca3482ceee",
   "metadata": {},
   "source": [
    "CREATE A PATH"
   ]
  },
  {
   "cell_type": "markdown",
   "id": "b998628f-3ef2-46ce-a41c-54bfd0dbefca",
   "metadata": {},
   "source": [
    "- Path is the main object to use, and it provides many methods streamline file operations."
   ]
  },
  {
   "cell_type": "code",
   "execution_count": null,
   "id": "1b20e6b2-ed26-4114-8f02-728ad26b2413",
   "metadata": {},
   "outputs": [],
   "source": [
    "from pathlib import Path\n",
    "test_path = Path(\"test_file.txt\")\n",
    "test_path.exists() # returns True if the file exists"
   ]
  },
  {
   "cell_type": "markdown",
   "id": "c7b00005-026c-4ad4-a3b3-e83493e4c5eb",
   "metadata": {},
   "source": [
    "OPEN, WRITE, READ"
   ]
  },
  {
   "cell_type": "code",
   "execution_count": null,
   "id": "e2f0546d-afd6-47fc-93cd-e1145aa5b5eb",
   "metadata": {},
   "outputs": [],
   "source": [
    "from pathlib import Path\n",
    "test_path = Path(\"test_file.txt\")\n",
    "\n",
    "# Open the file in append mode (\"a\") to write to it\n",
    "with test_path.open(\"a\") as f:\n",
    "    f.write(\"line 3\\n\")\n",
    "\n",
    "# Open the file in read mode (\"r\") to read from it\n",
    "with test_path.open(\"r\") as f:\n",
    "    data = f.readlines()\n",
    "\n",
    "print(data)"
   ]
  },
  {
   "cell_type": "markdown",
   "id": "ae8f7b4b-e8bf-465f-a45f-bf27da6b797a",
   "metadata": {},
   "source": [
    "- .readlines() is a new method, that reads the whole 􀀁le and splits the content by lines in a list."
   ]
  },
  {
   "cell_type": "code",
   "execution_count": null,
   "id": "90075172-d824-4be1-831b-d980a49da56b",
   "metadata": {},
   "outputs": [],
   "source": [
    "print(test_path.read_text())"
   ]
  },
  {
   "cell_type": "code",
   "execution_count": null,
   "id": "c0f4dce9-a1b7-4251-a9b0-8edeab240b40",
   "metadata": {},
   "outputs": [],
   "source": [
    "# we can't pass a mode to .write_text\n",
    "test_path.write_text(\"overwrites everything\")\n",
    "print(test_path.read_text())"
   ]
  },
  {
   "cell_type": "markdown",
   "id": "c735a5ca-1c22-4557-afe8-4b7c53da7394",
   "metadata": {},
   "source": [
    "- They also work with paths that are directories and it becomes easier to list all files inside."
   ]
  },
  {
   "cell_type": "code",
   "execution_count": null,
   "id": "6c368c6f-a6dd-4fda-9c92-560c5e9cb743",
   "metadata": {},
   "outputs": [],
   "source": [
    "p = Path(\"Code\")\n",
    "p.is_dir()"
   ]
  },
  {
   "cell_type": "markdown",
   "id": "55f0d311-1684-42d9-bee9-239374b78e3f",
   "metadata": {},
   "source": [
    "- List all files and folders inside code/"
   ]
  },
  {
   "cell_type": "code",
   "execution_count": null,
   "id": "ae1d7a1e-f00a-4810-869b-2b9f6f25c0f9",
   "metadata": {},
   "outputs": [],
   "source": [
    "list(p.iterdir())"
   ]
  },
  {
   "cell_type": "markdown",
   "id": "d8e20dec-08cc-45fc-8919-13a4cd24f432",
   "metadata": {},
   "source": [
    "- List all .py 􀀁les inside code/"
   ]
  },
  {
   "cell_type": "code",
   "execution_count": null,
   "id": "80d06269-9b84-4e1a-9fa9-67dd1a62cd1d",
   "metadata": {},
   "outputs": [],
   "source": [
    "list(p.glob(\"*.py\"))"
   ]
  },
  {
   "cell_type": "markdown",
   "id": "68810a19-6e61-4999-8d7b-e39b56ab6a0f",
   "metadata": {},
   "source": [
    "Path objects have many more useful methods:\n",
    "- creating and deleting files/folders\n",
    "- retrieving parent folders\n",
    "- retrieving absolute and relative paths\n",
    "- concatenating paths"
   ]
  },
  {
   "cell_type": "markdown",
   "id": "f891b810-d446-4f45-8760-f8a3de3cecc9",
   "metadata": {},
   "source": [
    "# LEARNING OUTCOMES - YOU'LL BE ABLE TO:"
   ]
  },
  {
   "cell_type": "markdown",
   "id": "5191ff10-b5ab-4837-9e8b-18bd0b093d2e",
   "metadata": {},
   "source": [
    "- Read tracebacks to find and fix errors\n",
    "- Catch exceptions to prevent program crashes\n",
    "- Understand the basic concepts of Object Oriented Programming\n",
    "- Create basic classes\n",
    "- Use classes from other packages\n",
    "- Use the debugger to find and fix errors"
   ]
  },
  {
   "cell_type": "markdown",
   "id": "86da177c-ee74-49f6-b8de-6eb82183e31c",
   "metadata": {},
   "source": [
    "# EXCEPTIONS"
   ]
  },
  {
   "cell_type": "markdown",
   "id": "d6da3061-792b-46c3-b3b0-90acd5f92fd7",
   "metadata": {},
   "source": [
    "- Unexpected behaviour can manifest itself as an exception\n",
    "- If not dealt with, exceptions break our programs."
   ]
  },
  {
   "cell_type": "raw",
   "id": "3bf4d59c-2aed-474b-a919-6b62cd390862",
   "metadata": {},
   "source": [
    "int(\"Hello Universe\")"
   ]
  },
  {
   "cell_type": "markdown",
   "id": "11049191-d9a8-424f-b7ce-1b2554bd240e",
   "metadata": {},
   "source": [
    "- Converting a nonnumeric string to an integer is unexpected behaviour, and a **ValueError** exception is thrown."
   ]
  },
  {
   "cell_type": "raw",
   "id": "d386a822-6520-49b7-aaf5-92f8e3d91e52",
   "metadata": {},
   "source": [
    "read_my_file(\"imaginary_file.txt\")"
   ]
  },
  {
   "cell_type": "markdown",
   "id": "83d4e97d-693d-4377-863a-131b91fbbf1a",
   "metadata": {},
   "source": [
    "- The file imaginary_file.txt does not exist, so a **FileNotFoundError** exception is thrown."
   ]
  },
  {
   "cell_type": "markdown",
   "id": "c080e2e4-4010-4e84-9689-615ba010a541",
   "metadata": {},
   "source": [
    "- Python has many different exceptions.\n",
    "- Their name is ussually sugestive of the problem we're facing.\n",
    "- Many packages define their own exceptions and sometimes those are not as suggestive."
   ]
  },
  {
   "cell_type": "markdown",
   "id": "f479d58d-6492-4ca0-a0cf-19d909b14d30",
   "metadata": {},
   "source": [
    "- **ValueError**\n",
    "Occurs when a built-in operation or function receives an argument of the correct type but an inappropriate value.\n",
    "- **FileNotFoundError**\n",
    "Raised when a file or directory is requested but cannot be found.\n",
    "- **TypeError**\n",
    "Raised when an operation or function is applied to an object of an inappropriate type.\n",
    "- **IndexError**\n",
    "Occurs when a sequence subscript is out of range.\n",
    "- **KeyError**\n",
    "Raised when a dictionary key is not found.\n",
    "- **SyntaxError**\n",
    "Occurs when the Python parser encounters a syntax error.\n",
    "- **NameError**\n",
    "Raised when a local or global name is not found.\n",
    "- **AttributeError**\n",
    "Occurs when an attribute reference or assignment fails."
   ]
  },
  {
   "cell_type": "markdown",
   "id": "58e57b02-717a-4c4b-b1c9-1f2560feb9d3",
   "metadata": {},
   "source": [
    "When we get an exception, we get:\n",
    "1. The type of the exception, e.g.\n",
    "    - **FileNotFoundError**\n",
    "2. Usually, a suggestive string, e.g.\n",
    "    - No such file or directory: 'imaginary_file.txt'\n",
    "3. A Traceback"
   ]
  },
  {
   "cell_type": "markdown",
   "id": "0e8181b1-70b5-4666-8cca-72210291db15",
   "metadata": {},
   "source": [
    "TRACEBACK"
   ]
  },
  {
   "cell_type": "markdown",
   "id": "3006c5c6-49cb-42f7-98de-0a5c14143684",
   "metadata": {},
   "source": [
    "- The traceback is the trace of instructions from our program's origin to the point where the exception hapenned.\n",
    "- If an exception was thrown inside a function:\n",
    "    - the traceback includes the line where the function was called\n",
    "    - and then the line inside the function where the exception was thrown.\n",
    "    -  recursively\n",
    "-  It's a traceback because it allows us to trace the problem back to its root. "
   ]
  }
 ],
 "metadata": {
  "kernelspec": {
   "display_name": "Python 3 (ipykernel)",
   "language": "python",
   "name": "python3"
  },
  "language_info": {
   "codemirror_mode": {
    "name": "ipython",
    "version": 3
   },
   "file_extension": ".py",
   "mimetype": "text/x-python",
   "name": "python",
   "nbconvert_exporter": "python",
   "pygments_lexer": "ipython3",
   "version": "3.11.3"
  }
 },
 "nbformat": 4,
 "nbformat_minor": 5
}
